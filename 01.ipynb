{
 "cells": [
  {
   "cell_type": "markdown",
   "id": "09caf350-f5ad-48ff-8ebf-15c88e020a9f",
   "metadata": {},
   "source": [
    "# Breve Introdução à Sintaxe Python\n",
    "\n"
   ]
  },
  {
   "cell_type": "markdown",
   "id": "b8d6c448-8644-414b-9299-100efad17bb6",
   "metadata": {},
   "source": [
    "## Sintaxe Python\n",
    "\n",
    "**Sintaxe** refere-se à forma como uma linguagem de programação é estruturada.\n",
    "\n",
    "Todos os exemplos de código abaixo podem ser executados para que você veja os resultados.\n",
    "\n",
    "Considere o seguinte código:\n"
   ]
  },
  {
   "cell_type": "code",
   "execution_count": null,
   "id": "ac01d30c-cb20-4d26-b357-387c6a76fcd6",
   "metadata": {},
   "outputs": [],
   "source": [
    "# Declarar o valor do dividendo\n",
    "dividendo = 51321\n",
    "\n",
    "#Declarar o valor do divisor\n",
    "divisor = 3 \n",
    "\n",
    "# Testar se o valor do quociente é igual a zero e imprimir resultado\n",
    "if dividendo % divisor == 0:\n",
    "    print(f'{dividendo} é divisível por {divisor}')\n",
    "else:\n",
    "    print(f'{dividendo} não é divisível por {divisor}')"
   ]
  },
  {
   "cell_type": "markdown",
   "id": "25426ae0-8988-453f-8e01-d54bda1826f4",
   "metadata": {},
   "source": [
    "Apesar da simplicidade do **_script_** acima, ele ilustra vários aspectos importantes da sintaxe do Python.\n",
    "\n",
    "## Comentários são marcados por `#`\n",
    "\n",
    "A primeira linha do script contém a seguinte informação:\n",
    "\n",
    "``` python\n",
    "# Declarar o valor do dividendo\n",
    "```\n",
    "\n",
    "Em Python, comentários são marcados pelo sinal `#`. Tudo o que vem depois desse sinal na linha é ignorado pelo interpretador.\n",
    "\n",
    "Comentários também podem ser adicionados ao final de uma linha de código, como no exemplo a seguir:\n"
   ]
  },
  {
   "cell_type": "code",
   "execution_count": null,
   "id": "cacf511e-2a20-402b-b427-916596f82db9",
   "metadata": {},
   "outputs": [],
   "source": [
    "5 + 3 # somar 5 + 3"
   ]
  },
  {
   "cell_type": "markdown",
   "id": "23781f7c-4b6e-45f8-9236-6907685018db",
   "metadata": {},
   "source": [
    "## Expressões são Encerradas com o Final da Linha\n",
    "\n",
    "A segunda linha do script contém a seguinte expressão:\n",
    "\n",
    "``` python\n",
    "dividendo = 51321\n",
    "```\n",
    "\n",
    "Essa expressão cria a variável `dividendo` e atribui o número `51321` a ela. Note que o fim da linha marca o término da expressão, sem a necessidade de nenhum marcador adicional (como o `;` na linguagem C).\n",
    "\n",
    "Em Python, uma expressão pode ser quebrada em mais de uma linha utilizando o marcador \\. Veja o exemplo a seguir:"
   ]
  },
  {
   "cell_type": "code",
   "execution_count": null,
   "id": "26e4727a-3e64-4b57-bdd3-7a6ae6f0d963",
   "metadata": {},
   "outputs": [],
   "source": [
    "x = 2 + 6 + 10 + 7 \\\n",
    "    + 2 - 5\n",
    "\n",
    "print(x)"
   ]
  },
  {
   "cell_type": "markdown",
   "id": "94853a42-7c15-4782-8322-64b3f4f25c4f",
   "metadata": {},
   "source": [
    "Uma linha também pode ser quebrada sem a necessidade de um marcador se a expressão estiver agrupada por `()`:"
   ]
  },
  {
   "cell_type": "code",
   "execution_count": null,
   "id": "1f52f66b-3934-4697-b434-dd18485b5a4e",
   "metadata": {},
   "outputs": [],
   "source": [
    "x = (2 + 6 + 10 + 7 \n",
    "     + 2 - 5)\n",
    "\n",
    "print(x)"
   ]
  },
  {
   "cell_type": "markdown",
   "id": "1759b624-8591-4d7d-8c19-5ba8e8e8147c",
   "metadata": {},
   "source": [
    "O sinal `;` pode, eventualmente, ser usado para marcar o fim de uma expressão. Dessa forma, é possível ter mais de uma expressão na mesma linha:"
   ]
  },
  {
   "cell_type": "code",
   "execution_count": null,
   "id": "aa4f36e7-4a54-45e9-9a39-80f2d07748cc",
   "metadata": {},
   "outputs": [],
   "source": [
    "x = 10; y =20\n",
    "print(x); print(y)"
   ]
  },
  {
   "cell_type": "markdown",
   "id": "0feb00c3-cee5-4756-b4e2-ac1d88d6f165",
   "metadata": {},
   "source": [
    "O código acima exibe o mesmo resultado que o seguinte código:"
   ]
  },
  {
   "cell_type": "code",
   "execution_count": null,
   "id": "e7c413fc-5a61-463b-9ef0-d959b02c3859",
   "metadata": {},
   "outputs": [],
   "source": [
    "x = 10\n",
    "y =20\n",
    "print(x)\n",
    "print(y)"
   ]
  },
  {
   "cell_type": "markdown",
   "id": "8be81a60-0f13-4be3-9a07-11e4259b6ef6",
   "metadata": {},
   "source": [
    "## Indentação\n",
    "\n",
    "Em seguida temos o seguinte bloco de código:\n",
    "\n",
    "``` python\n",
    "if dividendo % divisor == 0:\n",
    "    print(f'{dividendo} é divisível por {divisor}')\n",
    "else:\n",
    "    print(f'{dividendo} não é divisível por {divisor}')\n",
    "```\n",
    "\n",
    "Em Python, a indentação é obrigatória, pois a mudança de indentação serve para definir a hierarquia entre blocos de código.\n",
    "\n",
    "**Indentação** refere-se ao espaço em branco colocado no início de uma linha de código. Diferente de muitas outras linguagens de programação, Python utiliza a indentação para indicar a estrutura e a organização do código.\n",
    "\n"
   ]
  }
 ],
 "metadata": {
  "kernelspec": {
   "display_name": "Python 3 (ipykernel)",
   "language": "python",
   "name": "python3"
  },
  "language_info": {
   "codemirror_mode": {
    "name": "ipython",
    "version": 3
   },
   "file_extension": ".py",
   "mimetype": "text/x-python",
   "name": "python",
   "nbconvert_exporter": "python",
   "pygments_lexer": "ipython3",
   "version": "3.11.0"
  }
 },
 "nbformat": 4,
 "nbformat_minor": 5
}
