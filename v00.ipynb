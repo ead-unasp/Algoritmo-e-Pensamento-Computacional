{
 "cells": [
  {
   "cell_type": "markdown",
   "id": "1d1b5e7f-c22f-4bb2-838b-05af77d1b51b",
   "metadata": {},
   "source": [
    "# Google Colab\n",
    "\n",
    "O Google Colaboratory, conhecido popularmente como Colab, é um serviço de nuvem gratuito oferecido pelo Google, projetado para apoiar pesquisas em áreas como ciência de dados, aprendizado de máquina e inteligência artificial.\n",
    "\n",
    "O Colab permite escrever e executar código Python diretamente no navegador, com os seguintes benefícios:\n",
    "\n",
    "- Nenhuma configuração necessária\n",
    "- Acesso gratuito a GPUs\n",
    "- Facilidade de compartilhamento"
   ]
  },
  {
   "cell_type": "code",
   "execution_count": null,
   "id": "de0db578-736e-4ecc-83fc-0538d8672943",
   "metadata": {},
   "outputs": [],
   "source": []
  }
 ],
 "metadata": {
  "kernelspec": {
   "display_name": "Python 3 (ipykernel)",
   "language": "python",
   "name": "python3"
  },
  "language_info": {
   "codemirror_mode": {
    "name": "ipython",
    "version": 3
   },
   "file_extension": ".py",
   "mimetype": "text/x-python",
   "name": "python",
   "nbconvert_exporter": "python",
   "pygments_lexer": "ipython3",
   "version": "3.11.0"
  }
 },
 "nbformat": 4,
 "nbformat_minor": 5
}
