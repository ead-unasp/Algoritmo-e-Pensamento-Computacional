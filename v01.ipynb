{
 "cells": [
  {
   "cell_type": "markdown",
   "id": "7807822c-7bb2-4056-8540-a4f1c65dd690",
   "metadata": {},
   "source": [
    "# Variáveis"
   ]
  },
  {
   "cell_type": "markdown",
   "id": "09ee5709-0fb8-4b96-873d-e09d46bb0f6c",
   "metadata": {},
   "source": [
    "## Operação de Atribuição"
   ]
  },
  {
   "cell_type": "code",
   "execution_count": null,
   "id": "0dba9faa-1b32-428f-aa48-bd433987c231",
   "metadata": {},
   "outputs": [],
   "source": [
    "x = 3\n",
    "\n",
    "y = 8.5\n",
    "\n",
    "z = 'z'\n",
    "\n",
    "w = False\n"
   ]
  },
  {
   "cell_type": "code",
   "execution_count": null,
   "id": "ab366111-73da-40a7-be0a-e8208230dd57",
   "metadata": {},
   "outputs": [],
   "source": []
  },
  {
   "cell_type": "markdown",
   "id": "8b01629f-2576-49d6-b2c1-245e97878730",
   "metadata": {},
   "source": [
    "## Verificando o Tipo de uma variável\n"
   ]
  },
  {
   "cell_type": "code",
   "execution_count": null,
   "id": "1579d198-f742-4273-ac6b-77723d5c4352",
   "metadata": {},
   "outputs": [],
   "source": [
    "type(x)"
   ]
  },
  {
   "cell_type": "markdown",
   "id": "eee0af49-38a5-4688-96c3-24e257651552",
   "metadata": {},
   "source": [
    "## Atribuição Dinâmica"
   ]
  },
  {
   "cell_type": "code",
   "execution_count": null,
   "id": "f844e4ff-a485-4c8a-8f7d-5f8e62376cd2",
   "metadata": {},
   "outputs": [],
   "source": [
    "a = True\n",
    "\n",
    "type(a)"
   ]
  },
  {
   "cell_type": "markdown",
   "id": "532da6d2-9470-49d0-b756-33a920bfe82f",
   "metadata": {},
   "source": [
    "## Importância das Variáveis"
   ]
  },
  {
   "cell_type": "code",
   "execution_count": null,
   "id": "a093cc0f-4c0d-4306-beda-3c3736675b34",
   "metadata": {},
   "outputs": [],
   "source": [
    "a = 2 - 4\n",
    "\n",
    "b = 7 + 4\n",
    "\n",
    "c = 2 / 4\n",
    "\n",
    "a + b + c"
   ]
  },
  {
   "cell_type": "code",
   "execution_count": null,
   "id": "9da53a6d-8e91-4dbb-bb65-ba55954ad0d9",
   "metadata": {},
   "outputs": [],
   "source": [
    "x = 4\n",
    "\n",
    "a = 2 - x\n",
    "\n",
    "b = 7 + x\n",
    "\n",
    "c = 2 / x\n",
    "\n",
    "a + b + c"
   ]
  }
 ],
 "metadata": {
  "kernelspec": {
   "display_name": "Python 3 (ipykernel)",
   "language": "python",
   "name": "python3"
  },
  "language_info": {
   "codemirror_mode": {
    "name": "ipython",
    "version": 3
   },
   "file_extension": ".py",
   "mimetype": "text/x-python",
   "name": "python",
   "nbconvert_exporter": "python",
   "pygments_lexer": "ipython3",
   "version": "3.11.0"
  }
 },
 "nbformat": 4,
 "nbformat_minor": 5
}
