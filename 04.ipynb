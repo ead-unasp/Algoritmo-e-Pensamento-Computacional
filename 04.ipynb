{
 "cells": [
  {
   "cell_type": "markdown",
   "id": "56c3b55b-14d5-4ea4-acbb-077669ab27fb",
   "metadata": {},
   "source": [
    "# Operadores\n",
    "\n",
    "\n"
   ]
  },
  {
   "cell_type": "markdown",
   "id": "5584b991-8946-4e12-97cf-1f51b932ec63",
   "metadata": {
    "tags": []
   },
   "source": [
    "### Operadores Aritméticos\n",
    "\n",
    "| Operador     | Nome           | Descrição                                            |\n",
    "|--------------|----------------|--------------------------------------------------------|\n",
    "| ``a + b``    | Adição       | Soma de ``a`` e ``b``                                 |\n",
    "| ``a - b``    | Subtração    | Diferença de ``a`` e ``b``                          |\n",
    "| ``a * b``    | Multiplicação | Produto de ``a`` e ``b``                             |\n",
    "| ``a / b``    | Divisão Verdadeira  | Quociente de ``a`` e ``b``                            |\n",
    "| ``a // b``   | Divisão Piso | Quociente de ``a`` e ``b``, removendo a parte fracional |\n",
    "| ``a % b``    | Resto        | Resto inteiro da divisão de ``a`` por ``b``     |\n",
    "| ``a ** b``   | Exponenciação | ``a`` elevado à potencia de ``b``                     |\n",
    "\n",
    "Esses operadores podem ser usados e combinados de diversas formas usando parenteses para agrupar as operações. "
   ]
  },
  {
   "cell_type": "code",
   "execution_count": null,
   "id": "6e92027b-b5f2-4782-a5b3-629593d0fd46",
   "metadata": {},
   "outputs": [],
   "source": [
    "# adição, subtração, multiplicação e divisão (verdadeira)\n",
    "(4 + 8) * ((6.5 - 3)/3)"
   ]
  },
  {
   "cell_type": "code",
   "execution_count": null,
   "id": "bb1b14e6-7699-4bdb-bfb0-36b652caf7a7",
   "metadata": {},
   "outputs": [],
   "source": [
    "# Divisão Verdadeira\n",
    "11 / 2"
   ]
  },
  {
   "cell_type": "code",
   "execution_count": null,
   "id": "639861b0-db91-4a52-971d-8d8fe755c71f",
   "metadata": {},
   "outputs": [],
   "source": [
    "# Divisão Piso\n",
    "11 // 2"
   ]
  },
  {
   "cell_type": "code",
   "execution_count": null,
   "id": "497fb106-64a4-465b-bb9e-d86d12233124",
   "metadata": {},
   "outputs": [],
   "source": [
    "# Resto da divisão\n",
    "11 % 2"
   ]
  },
  {
   "cell_type": "markdown",
   "id": "0997d259-eb5a-4810-bbe8-7ba246c638bc",
   "metadata": {
    "tags": []
   },
   "source": [
    "### Exercício 1\n",
    "\n",
    "Escreva um programa para converter uma determinada temperatura de Celsius para Fahrenheit e vice-versa. \n",
    "\n",
    "$F = 1.8 \\times C + 32.$ \n",
    "\n"
   ]
  },
  {
   "cell_type": "code",
   "execution_count": null,
   "id": "40fb3e17-b71e-4bdc-af67-2f4769cecf5e",
   "metadata": {},
   "outputs": [],
   "source": []
  },
  {
   "cell_type": "markdown",
   "id": "182b709b-56a4-404f-b2c5-0859cdbb990d",
   "metadata": {},
   "source": [
    "### Exercício 2\n",
    "\n",
    "Escreva um programa que calcule o perímetro e a área de um círculo, dado o seu raio como entrada.\n",
    "\n",
    "$P = 2 \\times \\pi \\times r$\n",
    "\n",
    "$A = \\pi \\times r^2$"
   ]
  },
  {
   "cell_type": "code",
   "execution_count": null,
   "id": "ebdddf8b-b8bb-47b8-abb1-b017d258d3cd",
   "metadata": {},
   "outputs": [],
   "source": []
  },
  {
   "cell_type": "markdown",
   "id": "177af8f8-1280-4864-9b31-8c0bfdeabb27",
   "metadata": {},
   "source": [
    "## Operações de Comparação\n",
    "\n",
    "Outro tipo de operação que pode ser muito útil é a comparação de valores diferentes.\n",
    "Para isso, Python implementa operadores de comparação padrão, que retornam valores booleanos `True` e `False`.\n",
    "As operações de comparação estão listadas na tabela a seguir:\n",
    "\n",
    "| Operação     | Descrição                       |\n",
    "|--------------|---------------------------------|\n",
    "| ``a == b``    | ``a`` igual à ``b``              |\n",
    "| ``a < b``     | ``a`` menor que ``b``            |\n",
    "| ``a <= b``    | ``a`` menor que ou igual à ``b`` |\n",
    "| ``a != b``    | ``a`` diferente de ``b``         |\n",
    "| ``a > b``     | ``a`` maior que ``b``            |\n",
    "| ``a >= b``    | ``a`` maior que ou igual à ``b`` |\n",
    "\n",
    "\n",
    "\n",
    "\n",
    "Esses operadores de comparação podem ser combinados com os operadores aritméticos para expressar um número ilimitado de testes para os números.\n",
    "Por exemplo, podemos verificar se um número é ímpar verificando se o resto da divisão por 2 é igual a 1:"
   ]
  },
  {
   "cell_type": "code",
   "execution_count": null,
   "id": "698ef19f-8458-4fcf-8efb-01ce0d633636",
   "metadata": {},
   "outputs": [],
   "source": [
    "# verificar se um número é ímpar\n",
    "n = 32\n",
    "n % 2 == 0"
   ]
  },
  {
   "cell_type": "markdown",
   "id": "304cb862-91bd-4b5c-8111-2f7cdec8be36",
   "metadata": {},
   "source": [
    "Podemos juntar várias comparações para verificar relacionamentos mais complicados:"
   ]
  },
  {
   "cell_type": "code",
   "execution_count": null,
   "id": "fd1b342d-471c-449c-b685-41f85c1eeac5",
   "metadata": {},
   "outputs": [],
   "source": [
    "# verificar se x está entre 15 e 30\n",
    "x = 25\n",
    "15 < x < 30"
   ]
  },
  {
   "cell_type": "markdown",
   "id": "f8293a34-be6f-42e0-87d0-083d297c76fd",
   "metadata": {},
   "source": [
    "## Exercícios\n",
    "\n",
    "Tente prever os resultados de cada uma das operações abaixo antes de executar o código.\n",
    "\n",
    "Em seguida, verifique suas respostas executando cada operação na célula abaixo.\n",
    "\n",
    "``` python\n",
    "10 % 2 == 0\n",
    "(7//2) != 3\n",
    "2**3 < 2 < 14 % 2\n",
    "10 <= 2 < 2\n",
    "9**0.5 == 3\n",
    "2 >= 8 * (4**-1)\n",
    "```\n",
    "\n"
   ]
  },
  {
   "cell_type": "code",
   "execution_count": null,
   "id": "ea2adc6e-18d0-44a9-b724-3f3bd4a0eabd",
   "metadata": {},
   "outputs": [],
   "source": []
  },
  {
   "cell_type": "markdown",
   "id": "c6f65a0a-e8be-48ab-944b-90d790df8ebb",
   "metadata": {},
   "source": [
    "## Operadores Booleanos\n",
    "\n",
    "Ao trabalhar com valores booleanos, Python oferece operadores para combinar esses valores utilizando os conceitos lógicos padrão de \"e\", \"ou\" e \"não\". Esses operadores são representados pelas palavras-chave `and`, `or`, e `not`:"
   ]
  },
  {
   "cell_type": "code",
   "execution_count": null,
   "id": "d5e3e052-3d22-413f-959c-017bf7d87d85",
   "metadata": {},
   "outputs": [],
   "source": [
    "x = 4\n",
    "(x < 6) and (x > 2)"
   ]
  },
  {
   "cell_type": "code",
   "execution_count": null,
   "id": "b381fba3-a4da-4fc1-a589-b5beb2f4a072",
   "metadata": {},
   "outputs": [],
   "source": [
    "(x > 10) or (x % 2 == 0)"
   ]
  },
  {
   "cell_type": "code",
   "execution_count": null,
   "id": "838611ac-60bf-4aa8-b979-e0e0439ad2a4",
   "metadata": {},
   "outputs": [],
   "source": [
    "not (x < 6)"
   ]
  },
  {
   "cell_type": "markdown",
   "id": "b2d9d055-c53c-44c9-b0c7-384ca1cc0a07",
   "metadata": {},
   "source": [
    "Essas operações booleanas serão extremamente úteis quando começarmos a explorar expressões de controle de fluxo, como condicionais e loops."
   ]
  },
  {
   "cell_type": "markdown",
   "id": "b6603326-61ff-4dc4-ba1f-c13dfb381d1f",
   "metadata": {},
   "source": [
    "## Exercícios\n",
    "\n",
    "Tente prever os resultados de cada uma das operações abaixo antes de executar o código.\n",
    "\n",
    "Em seguida, verifique suas respostas executando cada operação na célula abaixo.\n",
    "\n",
    "``` python\n",
    "\n",
    "a = True\n",
    "b = False\n",
    "c = True\n",
    "\n",
    "a or b and not a and not(c or b)\n",
    "(a and b) or (not a and not(c or a))\n",
    "c and not b or (not a and b)\n",
    "\n",
    "((4 < 20) and (20 > 9**(0.5))) and (not (33//3 == 11) or ((21 - 2) % 2 == 1))\n",
    "((4 != 20/5) and (4.5*(3/2)**-1 == 9**(0.5))) or (not (33//3 == 11) or ((21 - 2) % 2 == 1))\n",
    "```"
   ]
  },
  {
   "cell_type": "code",
   "execution_count": null,
   "id": "730d5119-ebd2-410d-b513-34bd12162e5d",
   "metadata": {},
   "outputs": [],
   "source": []
  },
  {
   "cell_type": "markdown",
   "id": "b3bf749f-9627-4a0d-b13b-0d4bc5f55d5b",
   "metadata": {},
   "source": [
    "# Gabarito\n",
    "\n",
    "Verifique a solução dos problemas [aqui](https://colab.research.google.com/github/caio-c-silva/Algoritmo-e-Pensamento-Computacional/blob/main/g04.ipynb)"
   ]
  }
 ],
 "metadata": {
  "kernelspec": {
   "display_name": "Python 3 (ipykernel)",
   "language": "python",
   "name": "python3"
  },
  "language_info": {
   "codemirror_mode": {
    "name": "ipython",
    "version": 3
   },
   "file_extension": ".py",
   "mimetype": "text/x-python",
   "name": "python",
   "nbconvert_exporter": "python",
   "pygments_lexer": "ipython3",
   "version": "3.11.0"
  }
 },
 "nbformat": 4,
 "nbformat_minor": 5
}
