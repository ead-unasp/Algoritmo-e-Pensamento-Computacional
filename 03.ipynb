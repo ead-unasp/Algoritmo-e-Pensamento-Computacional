{
 "cells": [
  {
   "cell_type": "markdown",
   "id": "75dd4f53-73e5-4b98-81e0-f5c9171eb6c3",
   "metadata": {},
   "source": [
    "## Verificando os Tipos de Dados\n",
    "\n",
    "A função `type()` em Python é utilizada para determinar o tipo de dado de uma determinada variável ou expressão. Quando você passa um valor ou uma variável como argumento para `type()`, ela retorna o tipo do dado correspondente, como `int` para números inteiros, `float` para números de ponto flutuante, `str` para cadeias de caracteres e `bool` para valores booleanos. Essa função é útil para inspecionar o tipo de dados durante o desenvolvimento e depuração de código, garantindo que as operações realizadas sejam apropriadas para os tipos envolvidos."
   ]
  },
  {
   "cell_type": "markdown",
   "id": "5c28620b-1797-41b2-bfe5-b522dee8d93b",
   "metadata": {},
   "source": [
    "Execute a célula abaixo para ver o resultado da função `type()`"
   ]
  },
  {
   "cell_type": "code",
   "execution_count": 1,
   "id": "6fa691f1-d41c-45d0-b6f0-f86454aa4d99",
   "metadata": {},
   "outputs": [
    {
     "name": "stdout",
     "output_type": "stream",
     "text": [
      "<class 'int'>\n",
      "<class 'float'>\n",
      "<class 'str'>\n",
      "<class 'bool'>\n"
     ]
    }
   ],
   "source": [
    "var1 = 10\n",
    "var2 = 2.5\n",
    "var3 = \"casa\"\n",
    "var4 = True\n",
    "\n",
    "print(type(var1))\n",
    "print(type(var2))\n",
    "print(type(var3))\n",
    "print(type(var4))"
   ]
  },
  {
   "cell_type": "markdown",
   "id": "b37d1133-ad30-4e09-9836-08850bfe1ca6",
   "metadata": {},
   "source": [
    "## Exercícios"
   ]
  },
  {
   "cell_type": "markdown",
   "id": "8585e895-3a3b-4742-bf0a-11da06607515",
   "metadata": {},
   "source": [
    "Crie uma variável que receba a soma das variáveis `var1` e `var2`.\n",
    "\n",
    "Você está somando um número inteiro com um número de ponto flutuante. Qual será o tipo de dado do resultado?\n",
    "\n",
    "Verifique utilizando a função `type()`"
   ]
  },
  {
   "cell_type": "code",
   "execution_count": null,
   "id": "c6e48e52-fb84-46ae-806b-34d3d3aa580a",
   "metadata": {},
   "outputs": [],
   "source": []
  },
  {
   "cell_type": "markdown",
   "id": "4134edce-eb70-44bf-93ed-594ef4b5eb3f",
   "metadata": {},
   "source": [
    "# Gabarito\n",
    "\n",
    "Verifique a solução dos problemas [aqui](https://colab.research.google.com/github/caio-c-silva/Algoritmo-e-Pensamento-Computacional/blob/main/g03.ipynb)"
   ]
  }
 ],
 "metadata": {
  "kernelspec": {
   "display_name": "Python 3 (ipykernel)",
   "language": "python",
   "name": "python3"
  },
  "language_info": {
   "codemirror_mode": {
    "name": "ipython",
    "version": 3
   },
   "file_extension": ".py",
   "mimetype": "text/x-python",
   "name": "python",
   "nbconvert_exporter": "python",
   "pygments_lexer": "ipython3",
   "version": "3.11.0"
  }
 },
 "nbformat": 4,
 "nbformat_minor": 5
}
