{
 "cells": [
  {
   "cell_type": "markdown",
   "id": "2db89758-c554-4644-86ae-7929a6023cf3",
   "metadata": {},
   "source": [
    "# Estruturas de Repetição"
   ]
  },
  {
   "cell_type": "markdown",
   "id": "985bf2c8-6fcf-49a9-92a1-23e84b86e179",
   "metadata": {
    "tags": []
   },
   "source": [
    "## Repetições baseadas em condições\n",
    "\n",
    "A estrutura de repetição `for` é amplamente utilizada quando sabemos de antemão quantas vezes uma tarefa deve ser repetida. No entanto, em muitas situações, precisamos repetir uma tarefa sem conhecer o número exato de repetições, baseando-nos em uma condição.\n",
    "\n",
    "Para esse tipo de repetição em Python, utilizamos a estrutura `while` (enquanto).\n",
    "\n",
    "``` python\n",
    "while <condição>:\n",
    "    <bloco de código>\n",
    "```"
   ]
  },
  {
   "cell_type": "markdown",
   "id": "f4f36c86-1407-49e7-bf19-53bef722ef9d",
   "metadata": {},
   "source": [
    "### Exemplo: Contador"
   ]
  },
  {
   "cell_type": "code",
   "execution_count": null,
   "id": "0f62e250-6457-4368-aa54-6c937091f026",
   "metadata": {},
   "outputs": [],
   "source": [
    "contador = 1\n",
    "while contador <= 10:\n",
    "    print(contador)\n",
    "    contador = contador + 1\n",
    "print(\"Contagem concluída\")"
   ]
  },
  {
   "cell_type": "markdown",
   "id": "1ffab39e-2a48-4775-becd-b65dd6bf6da3",
   "metadata": {},
   "source": [
    "### Exemplo: Simulação de Controle de um Motor de Passo\n",
    "\n",
    "Este código simula o controle de um motor de passo que precisa mover um eixo até uma posição específica. O motor se move um passo por vez, e o código conta o número de passos necessários para atingir a posição desejada.\n",
    "\n",
    "O loop `while` continua executando enquanto a posição atual do motor for menor que a posição desejada. A cada iteração:\n",
    "\n",
    "- O motor avança um passo, **incrementando posicao_atual** e **numero_de_passos**.\n",
    "- Quando a posição desejada é atingida, o loop termina, e o código imprime o número total de passos necessários para o motor chegar à posição alvo."
   ]
  },
  {
   "cell_type": "code",
   "execution_count": null,
   "id": "51466013-89e8-46fe-a17a-b9a5ffdf0b04",
   "metadata": {},
   "outputs": [],
   "source": [
    "# Inicializa a posição atual do motor e a posição desejada\n",
    "posicao_atual = 0\n",
    "posicao_desejada = 100  # Suponha que a posição desejada é 100 passos\n",
    "\n",
    "# Define o deslocamento feito a cada passo do motor\n",
    "deslocamento = 10\n",
    "\n",
    "# Contador para o número total de passos dados\n",
    "numero_de_passos = 0\n",
    "\n",
    "# Estrutura de repetição while para mover o motor até a posição desejada\n",
    "while posicao_atual < posicao_desejada:\n",
    "    posicao_atual = posicao_atual + deslocamento  # Move o motor um passo à frente\n",
    "    numero_de_passos = numero_de_passos + 1   # Incrementa o contador de passos\n",
    "\n",
    "# Imprime o resultado do movimento\n",
    "print(f\"O motor alcançou a posição desejada após {numero_de_passos} passos.\")\n"
   ]
  },
  {
   "cell_type": "markdown",
   "id": "e7854b1c-df9e-4a9b-a000-8fc3443c0907",
   "metadata": {},
   "source": [
    "## Cadeia de Caracteres Formatada \n",
    "\n",
    "Você notou que, no final do código acima, a letra `f` apareceu dentro da função `print()` antes da cadeia de caracteres?\n",
    "\n",
    "``` python\n",
    "# Imprime o resultado do movimento\n",
    "print(f\"O motor alcançou a posição desejada após {numero_de_passos} passos.\")\n",
    "```\n",
    "\n",
    "Esse tipo de estrutura é chamada de **Cadeia de Caracteres Formatada** (ou formatted string).\n",
    "\n",
    "Uma Cadeia de Caracteres Formatada permite inserir valores de variáveis diretamente dentro de uma string de maneira simples e legível. Para utilizá-la, basta adicionar a letra `f` antes das aspas que delimitam a string e, dentro dela, incluir as variáveis entre chaves `{}`. \n",
    "\n",
    "Por exemplo:\n",
    "\n",
    "``` python\n",
    "nome = \"Ana\"\n",
    "idade = 10\n",
    "print(f\"Meu nome é {nome} e eu tenho {idade} anos.\")\n",
    "```\n",
    "\n",
    "Neste caso, o valor da variável `nome` será inserido no lugar de `{nome}` e o valor da variável `idade` no lugar de `{idade}`. Isso torna o código mais claro e facilita a formatação de strings com variáveis."
   ]
  },
  {
   "cell_type": "markdown",
   "id": "59cfe2f7-52e5-4a6f-a9bd-d0909fca6ffd",
   "metadata": {},
   "source": [
    "### Exercícios\n",
    "\n",
    "1. Escreva um programa que utilize a estrutura de repetição `while` para realizar uma contagem regressiva a partir do número 10."
   ]
  },
  {
   "cell_type": "code",
   "execution_count": null,
   "id": "3e9c9ff3-2396-44a8-9002-517189e05adb",
   "metadata": {},
   "outputs": [],
   "source": []
  },
  {
   "cell_type": "markdown",
   "id": "a8bb1646-1d03-4739-990c-3dfcc33bb7dc",
   "metadata": {},
   "source": [
    "2. Crie um programa que, a partir de um valor entre 1 e 9, exiba a tabuada correspondente. Utilize a estrutura de repetição while para realizar essa tarefa.\n",
    "\n",
    "Por exemplo:\n",
    "\n",
    "Se o valor for 2, o programa deve retornar:\n",
    "\n",
    "``` python\n",
    "2 x 1 = 2\n",
    "2 x 2 = 4\n",
    "2 x 3 = 6\n",
    "2 x 4 = 8\n",
    "2 x 5 = 10\n",
    "2 x 6 = 12\n",
    "2 x 7 = 14\n",
    "2 x 8 = 16\n",
    "2 x 9 = 18\n",
    "2 x 10 = 20\n",
    "```\n"
   ]
  },
  {
   "cell_type": "code",
   "execution_count": null,
   "id": "7b5614ce-3445-4515-b268-30b02ec68039",
   "metadata": {},
   "outputs": [],
   "source": []
  },
  {
   "cell_type": "markdown",
   "id": "416905b5-873a-477b-9a23-a4d5bc0ac5ad",
   "metadata": {},
   "source": [
    "# Gabarito\n",
    "\n",
    "Verifique a solução dos problemas [aqui](https://colab.research.google.com/github/caio-c-silva/Algoritmo-e-Pensamento-Computacional/blob/main/g07.ipynb)"
   ]
  }
 ],
 "metadata": {
  "kernelspec": {
   "display_name": "Python 3 (ipykernel)",
   "language": "python",
   "name": "python3"
  },
  "language_info": {
   "codemirror_mode": {
    "name": "ipython",
    "version": 3
   },
   "file_extension": ".py",
   "mimetype": "text/x-python",
   "name": "python",
   "nbconvert_exporter": "python",
   "pygments_lexer": "ipython3",
   "version": "3.11.0"
  }
 },
 "nbformat": 4,
 "nbformat_minor": 5
}
