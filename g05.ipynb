{
 "cells": [
  {
   "cell_type": "markdown",
   "id": "f1452f5b-a298-4c8e-ad90-e04376b6c75d",
   "metadata": {},
   "source": [
    "# Condicionais"
   ]
  },
  {
   "cell_type": "markdown",
   "id": "85291ab9-68d7-40db-bc1f-048d4307b775",
   "metadata": {},
   "source": [
    "### Exercício\n",
    "\n",
    "O Índice de Massa Corporal (IMC) é dado pela seguinte fórmula:\n",
    "\n",
    "$$IMC = \\frac{m}{{h}^2}$$\n",
    "\n",
    "Onde m é a massa da pessoa em quilogramas (Kg) e h é a altura da pessoa em metros.\n",
    "\n",
    "Valores de IMC entre 18,5 e 24,9 são considerados adequados. Crie um programa que receba os valores de massa e altura de uma pessoa, calcule o IMC e verifique se o índice está dentro do intervalo de adequação. Se o IMC estiver nesse intervalo, imprima a mensagem: \"O IMC está adequado\". Caso contrário, imprima: \"O IMC está fora do intervalo de adequação\"."
   ]
  },
  {
   "cell_type": "markdown",
   "id": "ee9b4518-6f36-4c82-80df-8787645cda50",
   "metadata": {},
   "source": [
    "## Explicação \n",
    "\n",
    "Vamos criar duas variáveis para receber os valores da massa em quilogramas (`m`) e da altura em metros (`h`).\n",
    "\n",
    "Em seguida, vamos calcular o valor do IMC e armazená-lo na variável `imc`.\n",
    "\n",
    "Depois, utilizaremos a estrutura condicional `if-else` para verificar se o valor calculado está dentro do intervalo de adequação."
   ]
  },
  {
   "cell_type": "code",
   "execution_count": null,
   "id": "69817368-ad9a-429b-afbe-fa3b7d0d0d54",
   "metadata": {},
   "outputs": [],
   "source": [
    "m = 80          #você pode alterar esse valor\n",
    "\n",
    "h = 1.80        #você pode alterar esse valor\n",
    "\n",
    "imc = m / (h**2)\n",
    "\n",
    "if 18.5 <= imc <= 24.9:\n",
    "    print('O IMC está adequado')\n",
    "else:\n",
    "    print('O IMC está fora do intervalo de adequação')"
   ]
  }
 ],
 "metadata": {
  "kernelspec": {
   "display_name": "Python 3 (ipykernel)",
   "language": "python",
   "name": "python3"
  },
  "language_info": {
   "codemirror_mode": {
    "name": "ipython",
    "version": 3
   },
   "file_extension": ".py",
   "mimetype": "text/x-python",
   "name": "python",
   "nbconvert_exporter": "python",
   "pygments_lexer": "ipython3",
   "version": "3.11.0"
  }
 },
 "nbformat": 4,
 "nbformat_minor": 5
}
