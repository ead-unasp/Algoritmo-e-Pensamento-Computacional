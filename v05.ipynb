{
 "cells": [
  {
   "cell_type": "markdown",
   "id": "3feec2b8-468b-4896-8c02-8f256456853f",
   "metadata": {},
   "source": [
    "## Funções"
   ]
  },
  {
   "cell_type": "code",
   "execution_count": null,
   "id": "80db6a50-c7b9-46f7-98ec-3b39587c5a80",
   "metadata": {},
   "outputs": [],
   "source": [
    "def eh_par(x):\n",
    "    \n",
    "    if x % 2 == 0:\n",
    "        resultado = True\n",
    "        \n",
    "    else:\n",
    "        \n",
    "        resultado = False\n",
    "        \n",
    "    return resultado"
   ]
  },
  {
   "cell_type": "code",
   "execution_count": null,
   "id": "93179966-3b1b-4c8f-b165-afa0cbadbd7b",
   "metadata": {},
   "outputs": [],
   "source": [
    "eh_par(3)"
   ]
  },
  {
   "cell_type": "markdown",
   "id": "92ca8f95-fc7b-4e84-8806-68e80caab077",
   "metadata": {},
   "source": [
    "## Exemplo: Seuqencia de Fibonacci\n",
    "\n",
    "A sequência de Fibonacci é uma série numérica onde cada número é a soma dos dois anteriores, começando por 0 e 1. \n",
    "\n",
    "Assim, os primeiros termos são 0, 1, 1, 2, 3, 5, 8, 13, e assim por diante. "
   ]
  },
  {
   "cell_type": "code",
   "execution_count": null,
   "id": "b438e9f8-281d-47e1-a4c6-e971f17cf9dd",
   "metadata": {},
   "outputs": [],
   "source": [
    "def fibonacci(n):\n",
    "    if n == 1:\n",
    "        return 0\n",
    "    else:\n",
    "        if n == 2:\n",
    "            return 1\n",
    "        else:\n",
    "            a, b = 0, 1\n",
    "            for i in range(2, n):\n",
    "                a, b = b, a + b\n",
    "            return b"
   ]
  },
  {
   "cell_type": "code",
   "execution_count": null,
   "id": "a0dad03a-b0b2-4cb8-891b-94402f47712c",
   "metadata": {},
   "outputs": [],
   "source": [
    "fibonacci(7)"
   ]
  },
  {
   "cell_type": "markdown",
   "id": "298b4870-39bc-435a-8f47-fafe0f4c0406",
   "metadata": {
    "tags": []
   },
   "source": [
    "## Exemplo: Função $e^x$\n",
    "\n",
    "Podemos aproximar a função exponencial por:\n",
    "\n",
    "$e^x \\approx 1 + x + \\frac{x^2}{2} + \\frac{x^3}{6} + \\frac{x^4}{24}$\n",
    "\n",
    "\n",
    "$e$ é o número de Euler 2.71828"
   ]
  },
  {
   "cell_type": "code",
   "execution_count": null,
   "id": "801ee762-4824-424a-aeb3-27473f8f6ad8",
   "metadata": {},
   "outputs": [],
   "source": [
    "def exp_x(x):\n",
    "    \n",
    "    exp_x = 1 + x + (x**2)/2 + (x**3)/6 + (x**4)/24\n",
    "    \n",
    "    return exp_x"
   ]
  },
  {
   "cell_type": "code",
   "execution_count": null,
   "id": "d059eae6-fc75-4148-b4ff-62e8d95f9127",
   "metadata": {},
   "outputs": [],
   "source": [
    "exp_x(1)"
   ]
  }
 ],
 "metadata": {
  "kernelspec": {
   "display_name": "Python 3 (ipykernel)",
   "language": "python",
   "name": "python3"
  },
  "language_info": {
   "codemirror_mode": {
    "name": "ipython",
    "version": 3
   },
   "file_extension": ".py",
   "mimetype": "text/x-python",
   "name": "python",
   "nbconvert_exporter": "python",
   "pygments_lexer": "ipython3",
   "version": "3.11.0"
  }
 },
 "nbformat": 4,
 "nbformat_minor": 5
}
