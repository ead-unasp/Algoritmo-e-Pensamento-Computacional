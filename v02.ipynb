{
 "cells": [
  {
   "cell_type": "markdown",
   "id": "a0055571-0360-46ca-9061-8492e514c59a",
   "metadata": {},
   "source": [
    "# Operadores"
   ]
  },
  {
   "cell_type": "markdown",
   "id": "5c37c004-ba9f-4726-95a0-4ed908af853e",
   "metadata": {},
   "source": [
    "## Operadores Aritméticos"
   ]
  },
  {
   "cell_type": "code",
   "execution_count": null,
   "id": "53810a63-9bd1-4504-93f2-bdabdde0d0f7",
   "metadata": {},
   "outputs": [],
   "source": [
    "2 + 9"
   ]
  },
  {
   "cell_type": "markdown",
   "id": "01478bf4-6d3e-4676-9c1c-6a6278e2ef15",
   "metadata": {},
   "source": [
    "## Exemplo: Função $e^x$\n",
    "\n",
    "Podemos aproximar a função exponencial por:\n",
    "\n",
    "$e^x \\approx 1 + x + \\frac{x^2}{2} + \\frac{x^3}{6} + \\frac{x^4}{24}$\n",
    "\n",
    "\n",
    "$e$ é o número de Euler 2.71828"
   ]
  },
  {
   "cell_type": "code",
   "execution_count": null,
   "id": "4aa13dd5-1120-4765-a4fd-0b681bc52ff4",
   "metadata": {},
   "outputs": [],
   "source": [
    "x = 1\n",
    "\n",
    "exp_x = 1 + x + (x**2)/2 + (x**3)/6 + (x**4)/24\n",
    "\n",
    "exp_x"
   ]
  },
  {
   "cell_type": "markdown",
   "id": "40e94834-0445-4600-9ae1-722c1357a3d4",
   "metadata": {},
   "source": [
    "## Operadores de Comparação"
   ]
  },
  {
   "cell_type": "code",
   "execution_count": null,
   "id": "b16da893-7ee4-47ba-a52f-0790cf2ab8fb",
   "metadata": {},
   "outputs": [],
   "source": [
    "2 == 5"
   ]
  },
  {
   "cell_type": "markdown",
   "id": "af51af85-7dd4-4807-9fd5-272f6574288d",
   "metadata": {},
   "source": [
    "## Operadores Booleanos"
   ]
  },
  {
   "cell_type": "code",
   "execution_count": null,
   "id": "275fd840-056d-454c-9629-6331d38d98ff",
   "metadata": {},
   "outputs": [],
   "source": [
    "True and True"
   ]
  },
  {
   "cell_type": "code",
   "execution_count": null,
   "id": "c63e52a3-7e0a-4247-b73a-060d7a42cdb4",
   "metadata": {},
   "outputs": [],
   "source": [
    "(5//2 <= 10) and not ((-0.5)**2 < 0)"
   ]
  }
 ],
 "metadata": {
  "kernelspec": {
   "display_name": "Python 3 (ipykernel)",
   "language": "python",
   "name": "python3"
  },
  "language_info": {
   "codemirror_mode": {
    "name": "ipython",
    "version": 3
   },
   "file_extension": ".py",
   "mimetype": "text/x-python",
   "name": "python",
   "nbconvert_exporter": "python",
   "pygments_lexer": "ipython3",
   "version": "3.11.0"
  }
 },
 "nbformat": 4,
 "nbformat_minor": 5
}
