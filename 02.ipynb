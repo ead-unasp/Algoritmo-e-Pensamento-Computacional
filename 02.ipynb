{
 "cells": [
  {
   "cell_type": "markdown",
   "id": "75dd4f53-73e5-4b98-81e0-f5c9171eb6c3",
   "metadata": {},
   "source": [
    "# Atribuições de variáveis\n",
    "\n",
    "Atribuir variáveis em Python é muito simples. Basta escrever o nome da variável ao lado esquerdo do sinal `=` e atribuir seu valor do lado direito.\n",
    "\n",
    "```python\n",
    "# Atribuir 4 à variável x\n",
    "x = 4\n",
    "```\n",
    "\n",
    "Python é caracterizada como uma linguagem de tipagem dinâmica, onde os nomes das variáveis podem referenciar objetos de qualquer tipo. Isso significa que, em Python, o tipo de dado associado a uma variável é determinado automaticamente em tempo de execução, e uma variável pode mudar de tipo ao longo do programa.\n",
    "\n",
    "Assim, é possível escrever o seguinte código:"
   ]
  },
  {
   "cell_type": "code",
   "execution_count": null,
   "id": "6fa691f1-d41c-45d0-b6f0-f86454aa4d99",
   "metadata": {},
   "outputs": [],
   "source": [
    "x = 1         # x é um inteiro\n",
    "x = 'hello'   # agora x é uma string\n",
    "x = [1, 2, 3] # agora é uma lista"
   ]
  },
  {
   "cell_type": "markdown",
   "id": "a8badba9-2b74-49f4-af47-65ab64ac3827",
   "metadata": {},
   "source": [
    "Perceba que, no exemplo acima, o mesmo nome de variável é utilizado para fazer diferentes atribuições. No início, a variável `x` recebe o valor 1, mas na linha seguinte, seu valor é sobrescrito pela sequência de caracteres `\"hello\"`. Em seguida, `x` é novamente sobrescrito, desta vez, pela lista `[1, 2, 3]`."
   ]
  },
  {
   "cell_type": "markdown",
   "id": "2ede4742-00f7-430c-8c8d-74d3f92ae02f",
   "metadata": {},
   "source": [
    "## Função `print()`"
   ]
  },
  {
   "cell_type": "markdown",
   "id": "90904471-eaf2-4e70-9313-af11b17798cf",
   "metadata": {},
   "source": [
    "A função `print()` é utilizada para exibir o valor de uma variável ou o resultado de uma expressão no console. Ela é uma das funções mais fundamentais em Python, permitindo que você visualize saídas e debugue seu código de maneira eficaz. Com print(), é possível não apenas mostrar valores simples, mas também formatar e combinar diferentes tipos de dados para criar saídas mais informativas e organizadas."
   ]
  },
  {
   "cell_type": "code",
   "execution_count": null,
   "id": "b43cde86-85b5-420c-9db5-434889c439fd",
   "metadata": {},
   "outputs": [],
   "source": [
    "var1 = 0.75\n",
    "var2 = 2\n",
    "print(var1)\n",
    "print(var2)\n",
    "print(var1 + var2)"
   ]
  },
  {
   "cell_type": "code",
   "execution_count": null,
   "id": "f304a283-58df-4c77-805f-5f022d583292",
   "metadata": {},
   "outputs": [],
   "source": [
    "a = 'Amazonas'\n",
    "b = False\n",
    "print(a)\n",
    "print(b)\n",
    "print(a, b)"
   ]
  },
  {
   "cell_type": "markdown",
   "id": "b37d1133-ad30-4e09-9836-08850bfe1ca6",
   "metadata": {},
   "source": [
    "## Exercícios"
   ]
  },
  {
   "cell_type": "markdown",
   "id": "8585e895-3a3b-4742-bf0a-11da06607515",
   "metadata": {},
   "source": [
    "Crie quatro variáveis contendo os seguites valores, respectivamente:\n",
    "\n",
    "```python\n",
    "125\n",
    "'Os Lusiadas'\n",
    "8.67\n",
    "False\n",
    "```"
   ]
  },
  {
   "cell_type": "code",
   "execution_count": null,
   "id": "c6e48e52-fb84-46ae-806b-34d3d3aa580a",
   "metadata": {},
   "outputs": [],
   "source": []
  },
  {
   "cell_type": "markdown",
   "id": "d32cdde7-2934-42d5-bb27-091a4ac1c0ca",
   "metadata": {},
   "source": [
    "Crie duas variáveis para armazenar o valor do seu peso e da sua altura, respectivamente, e, em seguida, imprima esses valores."
   ]
  },
  {
   "cell_type": "code",
   "execution_count": null,
   "id": "c2fd8ab3-848d-4d70-9d00-bb1034677f7e",
   "metadata": {},
   "outputs": [],
   "source": []
  }
 ],
 "metadata": {
  "kernelspec": {
   "display_name": "Python 3 (ipykernel)",
   "language": "python",
   "name": "python3"
  },
  "language_info": {
   "codemirror_mode": {
    "name": "ipython",
    "version": 3
   },
   "file_extension": ".py",
   "mimetype": "text/x-python",
   "name": "python",
   "nbconvert_exporter": "python",
   "pygments_lexer": "ipython3",
   "version": "3.11.0"
  }
 },
 "nbformat": 4,
 "nbformat_minor": 5
}
