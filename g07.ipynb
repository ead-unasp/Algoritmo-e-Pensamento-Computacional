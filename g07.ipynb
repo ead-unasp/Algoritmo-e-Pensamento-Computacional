{
 "cells": [
  {
   "cell_type": "markdown",
   "id": "642f5fdb-ec96-4dfa-af7d-6123662c9fb1",
   "metadata": {},
   "source": [
    "# Estruturas de Repetição"
   ]
  },
  {
   "cell_type": "markdown",
   "id": "258c6957-a545-4bcd-8f92-4637e8b1d35e",
   "metadata": {},
   "source": [
    "### Exercícios\n",
    "\n",
    "1. Escreva um programa que utilize a estrutura de repetição `while` para realizar uma contagem regressiva a partir do número 10."
   ]
  },
  {
   "cell_type": "markdown",
   "id": "8392f972-b36c-4de7-a5e4-071ec1ff13ac",
   "metadata": {},
   "source": [
    "## Explicação\n",
    "\n",
    "Vamos criar uma variável chamada `contador`, que receberá o valor inicial de 10.\n",
    "\n",
    "Em seguida, utilizaremos a estrutura de repetição `while` com a condição `contador >= 1`, ou seja, o bloco interno da estrutura de repetição será executado enquanto o valor da variável `contador` for maior ou igual a 1.\n",
    "\n",
    "Dentro da estrutura de repetição, usaremos a função `print()` para exibir o valor da variável `contador`. Depois, subtrairemos 1 do valor de `contador` e atualizaremos seu valor.\n",
    "\n",
    "Por fim, fora da estrutura de repetição, exibiremos a mensagem informando que a contagem foi concluída."
   ]
  },
  {
   "cell_type": "code",
   "execution_count": null,
   "id": "fb0abbad-8936-49da-af3a-05755f98e608",
   "metadata": {},
   "outputs": [],
   "source": [
    "contador = 10\n",
    "while contador >= 1:\n",
    "    print(contador)\n",
    "    contador = contador - 1\n",
    "print(\"Contagem concluída\")"
   ]
  },
  {
   "cell_type": "markdown",
   "id": "0df715fc-4121-4395-aa4f-b9c2cc93c382",
   "metadata": {},
   "source": [
    "2. Crie um programa que, a partir de um valor entre 1 e 9, exiba a tabuada correspondente. Utilize a estrutura de repetição while para realizar essa tarefa.\n",
    "\n",
    "Por exemplo:\n",
    "\n",
    "Se o valor for 2, o programa deve retornar:\n",
    "\n",
    "``` python\n",
    "2 x 1 = 2\n",
    "2 x 2 = 4\n",
    "2 x 3 = 6\n",
    "2 x 4 = 8\n",
    "2 x 5 = 10\n",
    "2 x 6 = 12\n",
    "2 x 7 = 14\n",
    "2 x 8 = 16\n",
    "2 x 9 = 18\n",
    "2 x 10 = 20\n",
    "```\n"
   ]
  },
  {
   "cell_type": "markdown",
   "id": "c149a8b7-1496-4462-9efd-a082655eb32f",
   "metadata": {},
   "source": [
    "## Explicação\n",
    "\n",
    "Vamos criar uma variável chamada `tabuada`, que receberá o valor da tabuada que desejamos exibir.\n",
    "\n",
    "Em seguida, criaremos uma variável chamada `contador`, que receberá o valor inicial de 1.\n",
    "\n",
    "Utilizaremos a estrutura de repetição `while` com a condição `contador <= 10`, ou seja, o bloco de código interno será executado enquanto o valor da variável contador for menor ou igual a 10.\n",
    "\n",
    "Dentro da estrutura de repetição, criaremos uma variável chamada `resultado`, que armazenará o valor da multiplicação entre `tabuada` e `contador`.\n",
    "\n",
    "Ainda dentro da estrutura de repetição, usaremos a função `print()` para exibir uma string formatada, mostrando o valor de `tabuada`, `contador` e `resultado`, no formato tradicional de uma tabuada. Depois, somaremos 1 ao valor de `contador` e atualizaremos seu valor."
   ]
  },
  {
   "cell_type": "code",
   "execution_count": null,
   "id": "3966afc5-8b55-42f2-86a1-21dc47a84e79",
   "metadata": {},
   "outputs": [],
   "source": [
    "tabuada = 5         #você pode alterar esse valor\n",
    "\n",
    "contador = 1\n",
    "\n",
    "while contador <= 10:\n",
    "    resultado = tabuada * contador\n",
    "    print(f\"{tabuada} x {contador} = {resultado}\")\n",
    "    contador = contador + 1"
   ]
  }
 ],
 "metadata": {
  "kernelspec": {
   "display_name": "Python 3 (ipykernel)",
   "language": "python",
   "name": "python3"
  },
  "language_info": {
   "codemirror_mode": {
    "name": "ipython",
    "version": 3
   },
   "file_extension": ".py",
   "mimetype": "text/x-python",
   "name": "python",
   "nbconvert_exporter": "python",
   "pygments_lexer": "ipython3",
   "version": "3.11.0"
  }
 },
 "nbformat": 4,
 "nbformat_minor": 5
}
