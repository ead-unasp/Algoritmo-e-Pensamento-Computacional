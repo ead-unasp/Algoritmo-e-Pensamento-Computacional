{
 "cells": [
  {
   "cell_type": "markdown",
   "id": "52eccbc8-6961-4bbd-809f-67c8ab006470",
   "metadata": {},
   "source": [
    "# Condicionais"
   ]
  },
  {
   "cell_type": "markdown",
   "id": "24833ef2-62d1-44c8-8fa7-39c43a5e675c",
   "metadata": {},
   "source": [
    "## Condicionais em Python\n",
    "\n",
    "Python possui um conjunto de palavras-chave reservadas que têm um significado especial e, por isso, não podem ser usadas como nomes de variáveis. A palavra `if` é uma dessas palavras-chave, utilizada para escrever declarações condicionais. Ela permite que o programa execute um bloco de código somente se uma determinada condição for verdadeira. Além de `if`, existe também a palavra-chave `else`, que é usada para definir um bloco de código alternativo que será executado caso a condição especificada em `if` seja falsa. Juntas, `if` e `else` permitem que o programa tome decisões e siga diferentes caminhos de execução com base nas condições fornecidas."
   ]
  },
  {
   "cell_type": "markdown",
   "id": "1b2bb192-9492-4d25-956a-9fcdbb2f2b84",
   "metadata": {},
   "source": [
    "A forma geral de escrever a condicional `if-else` é:\n",
    "\n",
    "``` python\n",
    "<bloco de código>\n",
    "if <condição>:\n",
    "    <bloco executado quando a condição é verdadeira>\n",
    "else:\n",
    "    <bloco executado quando a condição é falsa>\n",
    "```"
   ]
  },
  {
   "cell_type": "markdown",
   "id": "d0052a95-cb60-4365-a202-34a053666f42",
   "metadata": {},
   "source": [
    "### Exemplo"
   ]
  },
  {
   "cell_type": "code",
   "execution_count": null,
   "id": "e7f9e0b2-bbf4-488d-9174-966573594c36",
   "metadata": {},
   "outputs": [],
   "source": [
    "num = 10\n",
    "if num >= 0:\n",
    "    print('O número é positivo')\n",
    "else:\n",
    "    print('O número é negativo')"
   ]
  },
  {
   "cell_type": "code",
   "execution_count": null,
   "id": "fe8fb2ec-59f8-4a1b-b4e2-2a75c9baef58",
   "metadata": {},
   "outputs": [],
   "source": []
  },
  {
   "cell_type": "markdown",
   "id": "ed293e57-9758-427d-a954-f8357fb6ccbd",
   "metadata": {},
   "source": [
    "## Exercício\n",
    "\n",
    "O Índice de Massa Corporal (IMC) é dado pela seguinte fórmula:\n",
    "\n",
    "$$IMC = \\frac{m}{{h}^2}$$\n",
    "\n",
    "Onde m é a massa da pessoa em quilogramas (Kg) e h é a altura da pessoa em metros.\n",
    "\n",
    "Valores de IMC entre 18,5 e 24,9 são considerados adequados. Crie um programa que receba os valores de massa e altura de uma pessoa, calcule o IMC e verifique se o índice está dentro do intervalo de adequação. Se o IMC estiver nesse intervalo, imprima a mensagem: \"O IMC está adequado\". Caso contrário, imprima: \"O IMC está fora do intervalo de adequação\"."
   ]
  },
  {
   "cell_type": "code",
   "execution_count": null,
   "id": "b194fb8a-53fb-4a03-8f6a-9c9798053b0a",
   "metadata": {},
   "outputs": [],
   "source": []
  },
  {
   "cell_type": "markdown",
   "id": "7f7e2e86-8712-4a29-932f-0a5fcf60765a",
   "metadata": {},
   "source": [
    "# Gabarito\n",
    "\n",
    "Verifique a solução dos problemas [aqui](https://colab.research.google.com/github/caio-c-silva/Algoritmo-e-Pensamento-Computacional/blob/main/g05.ipynb)"
   ]
  }
 ],
 "metadata": {
  "kernelspec": {
   "display_name": "Python 3 (ipykernel)",
   "language": "python",
   "name": "python3"
  },
  "language_info": {
   "codemirror_mode": {
    "name": "ipython",
    "version": 3
   },
   "file_extension": ".py",
   "mimetype": "text/x-python",
   "name": "python",
   "nbconvert_exporter": "python",
   "pygments_lexer": "ipython3",
   "version": "3.11.0"
  }
 },
 "nbformat": 4,
 "nbformat_minor": 5
}
