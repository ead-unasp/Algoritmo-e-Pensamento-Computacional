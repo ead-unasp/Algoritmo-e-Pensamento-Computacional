{
 "cells": [
  {
   "cell_type": "markdown",
   "id": "b4aeaaac-6618-470c-9c03-f7eb711c5bcc",
   "metadata": {},
   "source": [
    "# Funções\n",
    "\n",
    "## Definindo e Usando Funções\n",
    "\n",
    "Até agora, nossos scripts têm sido blocos de código simples e de uso único. Uma maneira de organizar o código em Python e torná-lo mais legível e reutilizável é refatorar partes úteis em funções reutilizáveis.\n",
    "\n",
    "### Definição\n",
    "\n",
    "Funções são blocos de código que possuem um nome e podem ser chamados usando parênteses. Já encontramos funções anteriormente. Por exemplo, `print() em Python é uma função:"
   ]
  },
  {
   "cell_type": "code",
   "execution_count": null,
   "id": "850ffa44-99de-456a-b30b-3bcaa37ccbcd",
   "metadata": {},
   "outputs": [],
   "source": [
    "print('abc')"
   ]
  },
  {
   "cell_type": "markdown",
   "id": "a97c8b1e-dc21-42e4-a03d-27038f711293",
   "metadata": {},
   "source": [
    "Aqui print é o **nome** da função e 'abc' é chamado de **argumento** da função."
   ]
  },
  {
   "cell_type": "markdown",
   "id": "04f6d957-61eb-437d-bc94-120cdaa34dba",
   "metadata": {},
   "source": [
    "## Definindo uma Função\n",
    "\n",
    "As funções se tornam ainda mais poderosas quando começamos a definir nossa própria funcionalidade, permitindo sua reutilização em diferentes partes do código. Em Python, as funções são definidas usando a palavra-chave `def`. Por exemplo, podemos encapsular um código que calcula o seno de um ângulo. Utilizando uma aproximação da função seno por meio de uma série de Taylor, temos:\n",
    "\n",
    "$sen(x) = x - \\frac{x^3}{6} + \\frac{x^5}{120} - \\frac{x^7}{5040} $\n",
    "\n",
    "Essa função calcula o valor do seno quando o valor de x é dado em radianos.\n",
    "\n",
    "Agora, vamos criar uma função que calcula o valor do seno para um ângulo dado em graus. Para isso, precisaremos incluir a conversão de graus para radianos na função:\n",
    "\n",
    "$angulo_{radianos} = angulo_{graus} * \\frac{\\pi}{180}$\n",
    "\n",
    "Assim, a função para calcular o seno de um ângulo seria:"
   ]
  },
  {
   "cell_type": "code",
   "execution_count": 15,
   "id": "1eef4420-8f14-4c0d-8754-a3320555987c",
   "metadata": {},
   "outputs": [],
   "source": [
    "def seno(x):\n",
    "    \n",
    "    # converter de graus para radianos \n",
    "    x = x*3.1415/180\n",
    "    \n",
    "    # Calcular o seno através da aproximação da série de Taylor\n",
    "    resultado = x - ((x**3)/6) + ((x**5)/120) - ((x**7)/5040)\n",
    "    \n",
    "    return resultado"
   ]
  },
  {
   "cell_type": "markdown",
   "id": "55a2147b-cb89-4062-8fd6-55d867fc6faf",
   "metadata": {},
   "source": [
    "Usando a função criada acima, calcule os valores dos senos de $30^\\circ$, $45^\\circ$ e $90^\\circ$. Compare com os valores dados por uma calculadora."
   ]
  },
  {
   "cell_type": "code",
   "execution_count": null,
   "id": "ac55dc0f-3181-451c-93c6-04ed0c37760a",
   "metadata": {},
   "outputs": [],
   "source": []
  },
  {
   "cell_type": "markdown",
   "id": "7c3e7a17-8fd9-4bb8-b9bd-6e55adb8e17e",
   "metadata": {},
   "source": [
    "### Exercícios\n",
    "\n",
    "1 - Crie uma função que receba uma temperatura em graus Celsius e converta o valor para graus Fahrenheit. Lembrando que:\n",
    "\n",
    "$F = 1.8 \\times C + 32.$ \n",
    "\n",
    "Onde $F$ é a temperatura em Fahrenheit e $C$ é a temperatura em Celsius."
   ]
  },
  {
   "cell_type": "code",
   "execution_count": null,
   "id": "43b72f48-7132-4715-82b8-2672bc80b711",
   "metadata": {},
   "outputs": [],
   "source": []
  },
  {
   "cell_type": "markdown",
   "id": "4a858d6c-ba90-467b-bb09-31ac0f4795a5",
   "metadata": {},
   "source": [
    "2 - Crie uma função que calcule o volume de um cone, dado a área da base e a altura do cone."
   ]
  },
  {
   "cell_type": "code",
   "execution_count": null,
   "id": "43b47a3a-0bc7-40da-b5e5-8ebce7dfedab",
   "metadata": {},
   "outputs": [],
   "source": []
  },
  {
   "cell_type": "markdown",
   "id": "61aa2cd6-c0c6-4e69-a172-d19567250b97",
   "metadata": {},
   "source": [
    "3 - Crie uma função que calcule a posição $x$ de uma partícula em um determinado instante. Considere que a partícula está sob a ação de uma aceleração constante de $5 m/s^2$.\n",
    "\n",
    "Além do tempo $t$, a função deve receber como argumentos o valor da posição inicial da partícula $x_0$ e a velocidade inicial $v_0$. Lembrando que:\n",
    "\n",
    "$x(t)=x_0 + v_0  t + \\frac{1}{2}at^2$"
   ]
  },
  {
   "cell_type": "code",
   "execution_count": null,
   "id": "6f581d8b-b271-4b47-a036-322bf83c334f",
   "metadata": {},
   "outputs": [],
   "source": []
  },
  {
   "cell_type": "markdown",
   "id": "3ce3f3e8-914e-42c6-a560-3da7ff1cd811",
   "metadata": {},
   "source": [
    "# Gabarito\n",
    "\n",
    "Verifique a solução dos problemas [aqui](https://colab.research.google.com/github/caio-c-silva/Algoritmo-e-Pensamento-Computacional/blob/main/g08.ipynb)"
   ]
  }
 ],
 "metadata": {
  "kernelspec": {
   "display_name": "Python 3 (ipykernel)",
   "language": "python",
   "name": "python3"
  },
  "language_info": {
   "codemirror_mode": {
    "name": "ipython",
    "version": 3
   },
   "file_extension": ".py",
   "mimetype": "text/x-python",
   "name": "python",
   "nbconvert_exporter": "python",
   "pygments_lexer": "ipython3",
   "version": "3.11.0"
  }
 },
 "nbformat": 4,
 "nbformat_minor": 5
}
