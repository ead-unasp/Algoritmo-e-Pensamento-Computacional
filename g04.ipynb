{
 "cells": [
  {
   "cell_type": "markdown",
   "id": "14d63ac5-40d1-4838-b3b7-9c39235c1d8a",
   "metadata": {},
   "source": [
    "# Operadores Aritméticos"
   ]
  },
  {
   "cell_type": "markdown",
   "id": "23b6b04b-3766-4248-a7a2-377b6558dbb8",
   "metadata": {},
   "source": [
    "### Exercício 1\n",
    "\n",
    "Escreva um programa para converter uma determinada temperatura de Celsius para Fahrenheit e vice-versa. \n",
    "\n",
    "$F = 1.8 \\times C + 32.$ "
   ]
  },
  {
   "cell_type": "markdown",
   "id": "f7b22e4f-a388-4511-9f7c-14ab9330873b",
   "metadata": {},
   "source": [
    "## Explicação"
   ]
  },
  {
   "cell_type": "markdown",
   "id": "05e8c57f-e195-47c0-8e14-2c9b66ad16e1",
   "metadata": {},
   "source": [
    "## Conversão de Temperatura: Celsius para Fahrenheit e vice-versa\n",
    "\n",
    "Este programa converte uma determinada temperatura de Celsius para Fahrenheit e de Fahrenheit para Celsius.\n",
    "\n",
    "### Fórmulas Utilizadas:\n",
    "\n",
    "- Para converter de Celsius para Fahrenheit:\n",
    "  \n",
    " $F = 1.8 \\times C + 32$\n",
    "\n",
    "- Para converter de Fahrenheit para Celsius:\n",
    "\n",
    "  $C = \\frac{F - 32}{1.8}$\n",
    "\n",
    "### Código\n",
    "\n",
    "Vamos criar uma variável chamada `f_convertida`, que irá armazenar a temperatura convertida para Fahrenheit, e uma variável chamada `c_convertida`, que irá armazenar a temperatura convertida para Celsius.\n",
    "\n",
    "Também vamos criar duas variáveis, `temp_fahrenheit` e `temp_celsius`, que receberão os valores das temperaturas a serem convertidas.\n",
    "\n",
    "Por fim, utilizaremos a função `print()` para exibir os resultados das conversões."
   ]
  },
  {
   "cell_type": "code",
   "execution_count": null,
   "id": "cc1744fa-58a7-4360-8f95-78901c1dd360",
   "metadata": {},
   "outputs": [],
   "source": [
    "temp_celsius = 25        #você pode alterar esse valor\n",
    "\n",
    "temp_fahrenheit = 77     #você pode alterar esse valor\n",
    "\n",
    "f_convertida = 1.8 * temp_celsius + 32\n",
    "\n",
    "c_convertida = (temp_fahrenheit - 32)/1.8\n",
    "\n",
    "print(f_convertida)\n",
    "\n",
    "print(c_convertida)"
   ]
  },
  {
   "cell_type": "markdown",
   "id": "fd767f85-648b-4780-a7b2-c109ae6f4765",
   "metadata": {},
   "source": [
    "### Exercício 2\n",
    "\n",
    "Escreva um programa que calcule o perímetro e a área de um círculo, dado o seu raio como entrada.\n",
    "\n",
    "$P = 2 \\times \\pi \\times r$\n",
    "\n",
    "$A = \\pi \\times r^2$"
   ]
  },
  {
   "cell_type": "markdown",
   "id": "e156dfa6-a789-495e-90b9-5aed44e106c5",
   "metadata": {},
   "source": [
    "## Explicação\n",
    "\n",
    "Como ambos os cálculos dependem do raio do círculo, vamos criar uma variável chamada `r_cir` para armazenar o valor do raio.\n",
    "\n",
    "Utilizaremos o valor de 3,1415 para $\\pi$ e o armazenaremos na variável `pi`.\n",
    "\n",
    "Em seguida, atribuiremos os resultados da área e do perímetro às variáveis `a_circ` (área do círculo) e `p_circ` (perímetro do círculo), respectivamente.\n",
    "\n",
    "Por fim, utilizaremos a função `print()` para exibir os resultados."
   ]
  },
  {
   "cell_type": "code",
   "execution_count": null,
   "id": "0ea1523f-ff69-41bd-8239-ce0e7c729bfa",
   "metadata": {},
   "outputs": [],
   "source": [
    "r_circ = 5       #você pode alterar esse valor\n",
    "\n",
    "pi = 3.1415      #você pode alterar o número de casas decimais para aumentar a precisão\n",
    "\n",
    "a_circ = pi * r_circ**2\n",
    "\n",
    "p_circ = 2 * pi * r_circ\n",
    "\n",
    "print(a_circ)\n",
    "\n",
    "print(p_circ)"
   ]
  },
  {
   "cell_type": "markdown",
   "id": "6edb2e40-7ba0-4bdf-aa37-8cf789643669",
   "metadata": {},
   "source": [
    "# Operações de Comparação"
   ]
  },
  {
   "cell_type": "markdown",
   "id": "728aa0c5-0cff-409f-816b-b422d5d36390",
   "metadata": {},
   "source": [
    "## Exercícios\n",
    "\n",
    "Tente prever os resultados de cada uma das operações abaixo antes de executar o código.\n",
    "\n",
    "Em seguida, verifique suas respostas executando cada operação na célula abaixo.\n",
    "\n",
    "``` python\n",
    "10 % 2 == 0\n",
    "(7//2) != 3\n",
    "2**3 < 2 < 14 % 2\n",
    "10 <= 2 < 2\n",
    "9**0.5 == 3\n",
    "2 >= 8 * (4**-1)\n",
    "```\n"
   ]
  },
  {
   "cell_type": "markdown",
   "id": "ce041621-ec1f-4656-9c86-8bdb4166fbbf",
   "metadata": {},
   "source": [
    "## Explicação\n",
    "\n",
    "A ideia deste exercício é que você pratique os operadores de comparação **sem utilizar um computador**.\n",
    "\n",
    "Vamos considerar o primeiro caso:\n",
    "\n",
    "``` python\n",
    "10 % 2 == 0\n",
    "```\n",
    "\n",
    "Neste exemplo, temos o operador de comparação `==`, que retorna True quando o que está à esquerda do operador é igual ao que está à direita, e retorna False quando não há essa igualdade.\n",
    "\n",
    "No caso deste problema, à esquerda temos a expressão aritmética `10 % 2`, que calcula o resto da divisão de 10 por 2, resultando em 0.\n",
    "\n",
    "À direita, temos o número 0.\n",
    "\n",
    "Como há igualdade entre ambos, o resultado da expressão `10 % 2 == 0` é `True`.\n",
    "\n",
    "Você pode verificar isso utilizando a função `print()` para exibir a expressão completa.\n",
    "\n",
    "Da mesma forma, podemos aplicar essa lógica para as demais expressões do exercício.\n"
   ]
  },
  {
   "cell_type": "code",
   "execution_count": null,
   "id": "c1fd9eb3-b89d-4cfa-ab05-d528438811a5",
   "metadata": {},
   "outputs": [],
   "source": [
    "print(10 % 2 == 0)\n",
    "print((7//2) != 3)\n",
    "print(2**3 < 2 < 14 % 2)\n",
    "print(10 <= 2 < 2)\n",
    "print(9**0.5 == 3)\n",
    "print(2 >= 8 * (4**-1))"
   ]
  },
  {
   "cell_type": "markdown",
   "id": "0986dfe2-8af4-4d95-a21b-74de9d316e59",
   "metadata": {},
   "source": [
    "# Operadores Booleanos"
   ]
  },
  {
   "cell_type": "markdown",
   "id": "6ee55258-99a7-407d-8d52-473d0a542d1e",
   "metadata": {},
   "source": [
    "## Exercícios\n",
    "\n",
    "Tente prever os resultados de cada uma das operações abaixo antes de executar o código.\n",
    "\n",
    "Em seguida, verifique suas respostas executando cada operação na célula abaixo.\n",
    "\n",
    "``` python\n",
    "\n",
    "a = True\n",
    "b = False\n",
    "c = True\n",
    "\n",
    "a or b and not a and not(c or b)\n",
    "(a and b) or (not a and not(c or a))\n",
    "c and not b or (not a and b)\n",
    "\n",
    "((4 < 20) and (20 > 9**(0.5))) and (not (33//3 == 11) or ((21 - 2) % 2 == 1))\n",
    "((4 != 20/5) and (4.5*(3/2)**-1 == 9**(0.5))) or (not (33//3 == 11) or ((21 - 2) % 2 == 1))\n",
    "```"
   ]
  },
  {
   "cell_type": "markdown",
   "id": "dbd368e0-21a1-4ce5-98a1-f4827bd67635",
   "metadata": {},
   "source": [
    "## Explicação \n",
    "\n",
    "A ideia deste exercício é que você pratique os operadores de comparação **sem utilizar um computador**.\n",
    "\n",
    "Vamos considerar o seguinte caso:\n",
    "\n",
    "``` python\n",
    "a = True\n",
    "b = False\n",
    "c = True\n",
    "\n",
    "a or b and not a and not(c or b)\n",
    "```\n",
    "\n",
    "Como o operador `and` tem precedência sobre o operador `or`, podemos reescrever a expressão da seguinte forma:\n",
    "\n",
    "``` python\n",
    "a = True\n",
    "b = False\n",
    "c = True\n",
    "\n",
    "a or (b and not a and not(c or b))\n",
    "```\n",
    "\n",
    "Aqui, primeiro será avaliado tudo que está dentro dos parênteses, e depois a operação `or` será aplicada.\n",
    "\n",
    "No entanto, como o valor de `a` é `True`, o resultado final da expressão será `True`, independentemente do que está dentro dos parênteses, pois o operador `or` retorna `True` se qualquer uma das condições for verdadeira.\n",
    "\n",
    "Você pode verificar isso utilizando a função `print()` para exibir o resultado da expressão completa.\n",
    "\n",
    "Da mesma forma, essa lógica pode ser aplicada às demais expressões do exercício."
   ]
  },
  {
   "cell_type": "code",
   "execution_count": null,
   "id": "043a4d87-5bae-4300-80aa-d506cdb0d97a",
   "metadata": {},
   "outputs": [],
   "source": [
    "a = True\n",
    "b = False\n",
    "c = True\n",
    "\n",
    "print(a or b and not a and not(c or b))\n",
    "print((a and b) or (not a and not(c or a)))\n",
    "print(c and not b or (not a and b))\n",
    "\n",
    "print(((4 < 20) and (20 > 9**(0.5))) and (not (33//3 == 11) or ((21 - 2) % 2 == 1)))\n",
    "print(((4 != 20/5) and (4.5*(3/2)**-1 == 9**(0.5))) or (not (33//3 == 11) or ((21 - 2) % 2 == 1)))"
   ]
  }
 ],
 "metadata": {
  "kernelspec": {
   "display_name": "Python 3 (ipykernel)",
   "language": "python",
   "name": "python3"
  },
  "language_info": {
   "codemirror_mode": {
    "name": "ipython",
    "version": 3
   },
   "file_extension": ".py",
   "mimetype": "text/x-python",
   "name": "python",
   "nbconvert_exporter": "python",
   "pygments_lexer": "ipython3",
   "version": "3.11.0"
  }
 },
 "nbformat": 4,
 "nbformat_minor": 5
}
