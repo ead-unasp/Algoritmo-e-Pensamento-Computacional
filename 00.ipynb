{
 "cells": [
  {
   "cell_type": "markdown",
   "id": "7ce9db08-5d91-4415-a0f9-4f05265af94b",
   "metadata": {},
   "source": [
    "# Bem Vindo!\n",
    "\n",
    "É provável que esta seja a primeira vez que você está utilizando um notebook do Google Colab.\n",
    "\n",
    "Aprender algo novo sempre é um desafio, mas, ao final da jornada, você verá que valeu a pena. Afinal, você estará apto a usar uma plataforma de programação interativa amplamente utilizada por empresas e universidades ao redor do mundo.\n",
    "\n",
    "Antes de começarmos, é fundamental que você tenha uma conta no Google e esteja logado nela.\n",
    "\n",
    "Existem 3 opções para você:\n",
    "\n",
    "- **Tenho uma conta no Google e o navegador está conectado a essa conta:** Se esse for o caso, você já está logado e pronto para usar este notebook. Para confirmar, verifique no canto superior direito se sua foto de perfil aparece ao lado do botão com o símbolo de engrenagem. Ao passar o mouse sobre a foto, as informações da conta devem ser exibidas.\n",
    "\n",
    "- **Tenho uma conta no Google, mas o navegador não está vinculado a essa conta:** Nesse caso, um botão azul com o texto \"Fazer login\" em branco aparecerá no canto superior direito. Clique nesse botão e faça login com sua conta do Google.\n",
    "\n",
    "- **Não tenho uma conta no Google:** Você precisará criar uma conta. Clique neste [link](https://accounts.google.com/) e, em seguida, no botão \"Criar conta\". Siga as instruções para criar a conta e, após concluído, faça login no Google Colab (conforme o passo anterior)."
   ]
  },
  {
   "cell_type": "markdown",
   "id": "9cfba572-b868-46ac-a338-a21e26149ac3",
   "metadata": {},
   "source": [
    "# Célula\n",
    "\n",
    "Agora que você já está logado, vou te apresentar o espaço onde você praticará: a célula.\n",
    "\n",
    "Esse retângulo logo abaixo, onde você pode escrever, é chamado de célula. Dentro dessa célula, você pode escrever código em linguagem Python ou texto formatado em Markdown. Neste tutorial, focaremos na utilização das células para a criação de código.\n",
    "\n",
    "Como primeiro exercício, escreva na célula abaixo: 3 + 2\n",
    "\n",
    "Em seguida, você tem duas opções para executar o código que você escreveu:\n",
    "\n",
    "- Com o mouse, clique no botão de play (um círculo preto com uma seta branca apontando para a direita) localizado na extremidade esquerda da célula.\n",
    "\n",
    "- Ou, pressione \"Ctrl\" e \"Enter\" no teclado.\n",
    "\n",
    "Ambas as opções executarão o código, e o resultado aparecerá abaixo da célula.\n",
    "\n",
    "Não se preocupe se a primeira execução demorar um pouco. Isso ocorre porque toda a operação computacional não está sendo realizada em seu computador, mas em uma máquina virtual disponibilizada pelo Google. A primeira execução pode ser mais lenta, pois o Google está configurando essa máquina virtual para você.\n",
    "\n",
    "Você pode alterar o conteúdo da célula e executar novamente utilizando uma das formas mencionadas acima.\n",
    "\n",
    "Tente os seguintes exemplos:\n",
    "\n",
    "- 4 - 1\n",
    "\n",
    "- 3 + 7 - 2\n"
   ]
  },
  {
   "cell_type": "code",
   "execution_count": null,
   "id": "47267853-9416-4d96-bfd7-a57f4332ebdb",
   "metadata": {},
   "outputs": [],
   "source": []
  },
  {
   "cell_type": "markdown",
   "id": "a73e3dfe-7df5-43d4-9d62-bc49498ebc81",
   "metadata": {},
   "source": [
    "# Primeira Linha de Código\n",
    "\n",
    "É comum entre programadores que a primeira linha de código escrita em uma nova linguagem de programação seja a impressão da frase \"Hello, World!\".\n",
    "\n",
    "Para seguir essa tradição, escreva na célula abaixo: print(\"Hello, World!\")\n",
    "\n",
    "A função print() é usada para imprimir o valor que é colocado entre os parenteses.\n",
    "\n",
    "Verifique se você digitou todos os caracteres corretamente e, em seguida, execute a célula."
   ]
  },
  {
   "cell_type": "code",
   "execution_count": null,
   "id": "e80b9fc5-aa92-43df-8743-04f8c102b42d",
   "metadata": {},
   "outputs": [],
   "source": []
  },
  {
   "cell_type": "markdown",
   "id": "4c22e681-56f6-4d45-a055-7c0daff59cb2",
   "metadata": {},
   "source": [
    "## Parabéns, Você executou seu primeiro programa em Python!"
   ]
  }
 ],
 "metadata": {
  "kernelspec": {
   "display_name": "Python 3 (ipykernel)",
   "language": "python",
   "name": "python3"
  },
  "language_info": {
   "codemirror_mode": {
    "name": "ipython",
    "version": 3
   },
   "file_extension": ".py",
   "mimetype": "text/x-python",
   "name": "python",
   "nbconvert_exporter": "python",
   "pygments_lexer": "ipython3",
   "version": "3.11.0"
  }
 },
 "nbformat": 4,
 "nbformat_minor": 5
}
