{
 "cells": [
  {
   "cell_type": "markdown",
   "id": "82106aa3-0fca-45c1-ae45-ad5081ea0224",
   "metadata": {},
   "source": [
    "# Funções"
   ]
  },
  {
   "cell_type": "markdown",
   "id": "2a872185-d0ba-41c4-9dfb-039d95e0c66c",
   "metadata": {},
   "source": [
    "### Exercícios\n",
    "\n",
    "1 - Crie uma função que receba uma temperatura em graus Celsius e converta o valor para graus Fahrenheit. Lembrando que:\n",
    "\n",
    "$F = 1.8 \\times C + 32.$ \n",
    "\n",
    "Onde $F$ é a temperatura em Fahrenheit e $C$ é a temperatura em Celsius."
   ]
  },
  {
   "cell_type": "markdown",
   "id": "6fb9fee0-84d1-499f-832d-45bc1f386016",
   "metadata": {},
   "source": [
    "## Explicação\n",
    "\n",
    "Primeiro, vamos definir uma função chamada `celsius_para_fahrenheit`, que recebe um parâmetro chamado `celsius`.\n",
    "\n",
    "Dentro do escopo da função, criaremos a variável `fahrenheit`, que receberá o valor da conversão da temperatura de Celsius para Fahrenheit, de acordo com a fórmula fornecida no enunciado do problema.\n",
    "\n",
    "A função retornará então o valor de `fahrenheit`.\n",
    "\n",
    "Para testar a função, fora de seu escopo, criamos uma variável chamada `temp_celsius`, que receberá um valor de temperatura em Celsius.\n",
    "\n",
    "Em seguida, criamos uma variável chamada `temp_fahrenheit`, que receberá o resultado da função `celsius_para_fahrenheit` quando chamada com o valor de `temp_celsius`.\n",
    "\n",
    "Por fim, utilizamos a função `print()` para exibir o valor de `temp_fahrenheit`."
   ]
  },
  {
   "cell_type": "code",
   "execution_count": null,
   "id": "2ba62e1e-71a0-4155-8dce-e563c0c84de3",
   "metadata": {},
   "outputs": [],
   "source": [
    "# Definição da função para converter Celsius para Fahrenheit\n",
    "\n",
    "def celsius_para_fahrenheit(celsius):\n",
    "    fahrenheit = (1.8 * celsius) + 32\n",
    "    return fahrenheit\n",
    "\n",
    "# Uso da função para converter Celsius para Fahrenheit\n",
    "\n",
    "temp_celsius = 25      #você pode alterar esse valor\n",
    "\n",
    "temp_fahrenheit = celsius_para_fahrenheit(temp_celsius)\n",
    "\n",
    "print(temp_fahrenheit)"
   ]
  },
  {
   "cell_type": "markdown",
   "id": "f30bd6f0-cddc-414c-a4f2-2dcd39bfeeca",
   "metadata": {},
   "source": [
    "Crie uma função que calcule o volume de um cone, dado a área da base e a altura do cone."
   ]
  },
  {
   "cell_type": "markdown",
   "id": "39abc202-70cf-45ba-b91b-8d9c77e1c132",
   "metadata": {},
   "source": [
    "## Explicação\n",
    "\n",
    "O volume do cone é dado por:\n",
    "\n",
    "$V = \\frac{1}{3} A h$\n",
    "\n",
    "Onde $A$ é a área da base e $h$ é a altura do cone.\n",
    "\n",
    "Primeiro, vamos definir uma função chamada `volume_do_cone`, que recebe dois parâmetro chamados `area_base` e `altura`.\n",
    "\n",
    "Dentro do escopo da função, criaremos a variável `volume`, que receberá o valor do cálculo do volume, de acordo com a fórmula acima.\n",
    "\n",
    "A função retornará então o valor de `volume`.\n",
    "\n",
    "Para testar a função, fora de seu escopo, criamos uma variável chamada `area_base_cone`, que receberá um valor da área da base de um cone,  e uma variável chamada `altura_cone`, que receberá um valor da altura de um cone.\n",
    "\n",
    "Em seguida, criamos uma variável chamada `volume_cone`, que receberá o resultado da função `volume_do_cone` quando chamada com os valores de `area_base_cone` e `altura_cone`.\n",
    "\n",
    "Por fim, utilizamos a função `print()` para exibir o valor de `volume_cone`. "
   ]
  },
  {
   "cell_type": "code",
   "execution_count": null,
   "id": "057b227a-37f2-4c2a-ac94-aff89fe00bba",
   "metadata": {},
   "outputs": [],
   "source": [
    "# Definição da função para calcular o volume de um cone\n",
    "\n",
    "def volume_do_cone(area_base, altura):\n",
    "    volume = (1/3) * area_base * altura\n",
    "    return volume\n",
    "\n",
    "# Uso da função para calcular o volume de um cone\n",
    "\n",
    "area_base_cone = 6      #você pode alterar esse valor\n",
    "\n",
    "altura_cone = 5         #você pode alterar esse valor\n",
    "\n",
    "volume_cone = volume_do_cone(area_base_cone, altura_cone)\n",
    "\n",
    "print(volume_cone)"
   ]
  },
  {
   "cell_type": "markdown",
   "id": "610b7be9-a3a5-4f30-811c-7425526956a5",
   "metadata": {},
   "source": [
    "3 - Crie uma função que calcule a posição $x$ de uma partícula em um determinado instante. Considere que a partícula está sob a ação de uma aceleração constante de $5 m/s^2$.\n",
    "\n",
    "Além do tempo $t$, a função deve receber como argumentos o valor da posição inicial da partícula $x_0$ e a velocidade inicial $v_0$. Lembrando que:\n",
    "\n",
    "$x(t)=x_0 + v_0  t + \\frac{1}{2}at^2$"
   ]
  },
  {
   "cell_type": "markdown",
   "id": "a7a34815-2e3a-43ae-ab6f-876b0216bd30",
   "metadata": {},
   "source": [
    "## Explicação\n",
    "\n",
    "Primeiro, vamos definir uma função chamada `posicao_particula`, que recebe três parâmetro chamados `t`, `x0` e `v0`.\n",
    "\n",
    "Dentro do escopo da função, criaremos a variável `x`, que receberá o valor do cálculo da posição, de acordo com a fórmula fornecida no enunciado do problema.\n",
    "\n",
    "A função retornará então o valor de `x`.\n",
    "\n",
    "Para testar a função, fora de seu escopo, criamos uma variável chamada `tempo`, que receberá o valor do tempo para o qual se deseja calcular a posição, uma variável chamada `posicao_inicial`, que receberá a posição inicial da partícula, e uma variável chamada `velocidade_inicial`, que receberá a velocidade inicial da partícula.\n",
    "\n",
    "Em seguida, criamos uma variável chamada `posicao`, que receberá o resultado da função `posicao_particula` quando chamada com os valores de `tempo`, `posicao_inicial` e `velocidade_inicial`.\n",
    "\n",
    "Por fim, utilizamos a função `print()` para exibir o valor de `posicao`. "
   ]
  },
  {
   "cell_type": "code",
   "execution_count": null,
   "id": "7f501ef1-6e50-4f0d-8276-2b33e2f6fcd8",
   "metadata": {},
   "outputs": [],
   "source": [
    "# Definição da função para calcular a posição de uma particula\n",
    "\n",
    "def posicao_particula(t, x0, v0):\n",
    "    x = x0 + v0 * t + 0.5 * 5 * t**2\n",
    "    return x\n",
    "\n",
    "# Uso da função para calcular a posição de uma particula\n",
    "\n",
    "tempo = 2                  #você pode alterar esse valor\n",
    "\n",
    "posicao_inicial = 5        #você pode alterar esse valor\n",
    "\n",
    "velocidade_inicial = 3     #você pode alterar esse valor\n",
    "\n",
    "posicao = posicao_particula(tempo, posicao_inicial, velocidade_inicial)\n",
    "\n",
    "print(posicao)"
   ]
  }
 ],
 "metadata": {
  "kernelspec": {
   "display_name": "Python 3 (ipykernel)",
   "language": "python",
   "name": "python3"
  },
  "language_info": {
   "codemirror_mode": {
    "name": "ipython",
    "version": 3
   },
   "file_extension": ".py",
   "mimetype": "text/x-python",
   "name": "python",
   "nbconvert_exporter": "python",
   "pygments_lexer": "ipython3",
   "version": "3.11.0"
  }
 },
 "nbformat": 4,
 "nbformat_minor": 5
}
