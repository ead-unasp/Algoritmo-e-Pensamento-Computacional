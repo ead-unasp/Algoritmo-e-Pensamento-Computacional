{
 "cells": [
  {
   "cell_type": "markdown",
   "id": "129babde-36b2-4c4b-9091-a9005b046bde",
   "metadata": {},
   "source": [
    "## Exercícios"
   ]
  },
  {
   "cell_type": "markdown",
   "id": "512c5396-b14a-423b-8430-370cbc6f491c",
   "metadata": {},
   "source": [
    "Crie uma variável que receba a soma das variáveis `var1` e `var2`.\n",
    "\n",
    "Você está somando um número inteiro com um número de ponto flutuante. Qual será o tipo de dado do resultado?\n",
    "\n",
    "Verifique utilizando a função `type()`"
   ]
  },
  {
   "cell_type": "markdown",
   "id": "39bfc973-f5c9-4b1d-9253-fb570e0b9ea7",
   "metadata": {},
   "source": [
    "## Explicação:\n",
    "\n",
    "O exercício pede para verificar qual é o tipo de uma variável que recebe a soma entre um número inteiro e um ponto flutuante.\n",
    "\n",
    "Para isso, vamos criar uma variável chamada `var1` e atribuir a ela um número inteiro.\n",
    "\n",
    "Em seguida, vamos criar outra variável chamada `var2` e atribuir a ela um número de ponto flutuante.\n",
    "\n",
    "Na sequência, vamos criar uma terceira variável chamada `soma`, que irá armazenar o resultado da soma entre `var1` e `var2`.\n",
    "\n",
    "Por fim, utilizaremos a função `type()` para verificar o tipo da variável `soma` e a função `print()` para exibir o resultado."
   ]
  },
  {
   "cell_type": "code",
   "execution_count": null,
   "id": "6edeaf62-f23c-4d11-a86a-78252d6fafea",
   "metadata": {},
   "outputs": [],
   "source": [
    "var1 = 5\n",
    "var2 = 3.2\n",
    "soma = var1 + var2\n",
    "print(type(soma))"
   ]
  }
 ],
 "metadata": {
  "kernelspec": {
   "display_name": "Python 3 (ipykernel)",
   "language": "python",
   "name": "python3"
  },
  "language_info": {
   "codemirror_mode": {
    "name": "ipython",
    "version": 3
   },
   "file_extension": ".py",
   "mimetype": "text/x-python",
   "name": "python",
   "nbconvert_exporter": "python",
   "pygments_lexer": "ipython3",
   "version": "3.11.0"
  }
 },
 "nbformat": 4,
 "nbformat_minor": 5
}
