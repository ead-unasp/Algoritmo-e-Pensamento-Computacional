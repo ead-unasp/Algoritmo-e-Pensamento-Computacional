{
 "cells": [
  {
   "cell_type": "markdown",
   "id": "7b389a05-0090-4713-b306-a1255ca16f70",
   "metadata": {},
   "source": [
    "# Estruturas de Repetição "
   ]
  },
  {
   "cell_type": "markdown",
   "id": "821489e3-9625-4be4-bd50-22937281b836",
   "metadata": {},
   "source": [
    "### Exercícios\n",
    "\n",
    "1 - Crie um programa que imprima o quadrado de uma sequencia de números:\n",
    "\n",
    "Execute esse programa para valores de x que vão de 3 até 15"
   ]
  },
  {
   "cell_type": "markdown",
   "id": "483c1467-ac03-4f66-a10c-eb0773fc431b",
   "metadata": {},
   "source": [
    "## Explicação\n",
    "\n",
    "Para criar o intervalo entre 3 e 15, utilizaremos a função `range()`, onde 3 será o valor inicial (incluso) e 16 será o valor final (não incluso).\n",
    "\n",
    "Em seguida, utilizaremos a estrutura de repetição `for`, com uma variável de controle chamada `num`.\n",
    "\n",
    "No bloco de código dentro da estrutura de repetição, calcularemos o quadrado de `num` e o armazenaremos na variável `num_quadrado`. Em seguida, utilizaremos a função `print()` para exibir o valor de `num_quadrado`."
   ]
  },
  {
   "cell_type": "code",
   "execution_count": null,
   "id": "3debaca7-453d-489b-95ca-36326418cb3d",
   "metadata": {},
   "outputs": [],
   "source": [
    "for num in range(3, 16):\n",
    "    num_quadrado = num**2\n",
    "    print(num_quadrado)"
   ]
  },
  {
   "cell_type": "markdown",
   "id": "3cdd9d8b-21c7-43f1-9f6a-cb5ab3847068",
   "metadata": {},
   "source": [
    "2 - Crie um programa que some todos os números na sequência de 1 até 100"
   ]
  },
  {
   "cell_type": "markdown",
   "id": "0d733a75-df31-4919-95c7-21359b6723b6",
   "metadata": {},
   "source": [
    "## Explicação\n",
    "\n",
    "Vamos criar uma variável chamada `soma` e atribuir a ela o valor inicial de 0. Essa variável será declarada fora da estrutura de repetição.\n",
    "\n",
    "Para definir o intervalo entre 1 e 100, utilizaremos a função `range()`, onde 1 será o valor inicial (incluso) e 101 será o valor final (não incluso).\n",
    "\n",
    "Em seguida, usaremos a estrutura de repetição `for`, com uma variável de controle chamada `num`.\n",
    "\n",
    "Dentro do bloco de código da estrutura de repetição, somaremos o valor de `num` à variável `soma` e atualizaremos seu valor.\n",
    "\n",
    "Por fim, fora da estrutura de repetição, utilizaremos a função `print()` para exibir o valor final da variável `soma`."
   ]
  },
  {
   "cell_type": "code",
   "execution_count": null,
   "id": "2b01d27c-78e0-4e91-9664-d709963bfe79",
   "metadata": {},
   "outputs": [],
   "source": [
    "soma = 0\n",
    "for num in range(1, 101):\n",
    "    soma = soma + num\n",
    "print(soma)"
   ]
  }
 ],
 "metadata": {
  "kernelspec": {
   "display_name": "Python 3 (ipykernel)",
   "language": "python",
   "name": "python3"
  },
  "language_info": {
   "codemirror_mode": {
    "name": "ipython",
    "version": 3
   },
   "file_extension": ".py",
   "mimetype": "text/x-python",
   "name": "python",
   "nbconvert_exporter": "python",
   "pygments_lexer": "ipython3",
   "version": "3.11.0"
  }
 },
 "nbformat": 4,
 "nbformat_minor": 5
}
