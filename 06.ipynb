{
 "cells": [
  {
   "cell_type": "markdown",
   "id": "2db89758-c554-4644-86ae-7929a6023cf3",
   "metadata": {},
   "source": [
    "# Estruturas de Repetição "
   ]
  },
  {
   "cell_type": "markdown",
   "id": "78785912-4fc9-4227-b8f3-fba202630564",
   "metadata": {},
   "source": [
    "## Repetições no programa\n",
    "\n",
    "### Exemplo 1\n",
    "\n",
    "Imagine que você precise fazer o seguinte cálculo:\n",
    "\n",
    "$$\\frac{{x^{0.5}} - 23}{{\\pi} - 0.81}$$\n",
    "\n",
    "Em Python:\n",
    "\n",
    "``` python\n",
    "((x**0.5) - 23) / (3.1415 - 0.81)\n",
    "```\n",
    "\n",
    "Agora imagine que você precise fazer esse cálculo para valores de x que vão de 0 até 200 e imprimir o resultado:\n",
    "\n",
    "Em Python:\n",
    "\n",
    "``` python\n",
    "x = 0\n",
    "resultado = ((x**0.5) - 23) / (3.1415 - 0.81)\n",
    "print(resultado)\n",
    "x = 1\n",
    "resultado = ((x**0.5) - 23) / (3.1415 - 0.81)\n",
    "print(resultado)\n",
    "x = 2\n",
    "resultado = ((x**0.5) - 23) / (3.1415 - 0.81)\n",
    "print(resultado)\n",
    "x = 3\n",
    "resultado = ((x**0.5) - 23) / (3.1415 - 0.81)\n",
    "print(resultado)\n",
    ".\n",
    ".\n",
    ".\n",
    "x = 200\n",
    "resultado = ((x**0.5) - 23) / (3.1415 - 0.81)\n",
    "print(resultado)\n",
    "```\n",
    "\n",
    "### Exemplo 2\n",
    "\n",
    "Imagine que você tenha que escrever a saudação \"Olá ____, seja muito bem vindo!\" para os seguintes 5 nomes: João, Maria, José, Laura, Marcos\n",
    "\n",
    "Em Python:\n",
    "\n",
    "``` python\n",
    "print('Olá João, seja muito bem vindo!')\n",
    "print('Olá Maria, seja muito bem vindo!')\n",
    "print('Olá José, seja muito bem vindo!')\n",
    "print('Olá Laura, seja muito bem vindo!')\n",
    "print('Olá Marcos, seja muito bem vindo!')\n",
    "```\n",
    "\n",
    "Nesses dois exemplos, o código é repetido várias vezes, com exceção de uma variável. É justamente para esse tipo de situação que a estrutura de repetição `for` existe.\n"
   ]
  },
  {
   "cell_type": "markdown",
   "id": "3bf2e665-c78b-4e55-8137-ad9b324f8892",
   "metadata": {},
   "source": [
    "Em Python, a palavra-chave que informa como fazer um loop determinado número de vezes é `for`."
   ]
  },
  {
   "cell_type": "code",
   "execution_count": null,
   "id": "67eba8e4-831c-43de-8d01-6feffff487c7",
   "metadata": {},
   "outputs": [],
   "source": [
    "for x in range(11):\n",
    "    resultado = ((x**0.5) - 23) / (3.1415 - 0.81)\n",
    "    print(resultado)    "
   ]
  },
  {
   "cell_type": "markdown",
   "id": "ff61fe4b-a4bb-4636-8870-69306adae6a5",
   "metadata": {},
   "source": [
    "A forma geral da estrutura de repetição `for` é:\n",
    "\n",
    "``` python\n",
    "for <variável de controle> in <intervalo de repetição>:\n",
    "    <bloco de código>\n",
    "```"
   ]
  },
  {
   "cell_type": "markdown",
   "id": "9789a07e-5e18-4229-b0fd-a00b2a89933d",
   "metadata": {},
   "source": [
    "## Função `range()`\n",
    "\n",
    "Uma forma de criar um intervalo em python é através da função `range()`. Assim, o resultado da função `range(n)` será:\n",
    "\n",
    "<br/><br/>\n",
    "<img src=\"https://raw.githubusercontent.com/caio-c-silva/introducao_programacao/main/notebooks_aulas/fig/chart1.png\" style=\"margin:auto\"/>\n",
    "<br/><br/>\n",
    "\n"
   ]
  },
  {
   "cell_type": "markdown",
   "id": "f87cf91f-e649-460e-9e74-e70867830cf2",
   "metadata": {},
   "source": [
    "A forma geral da função `range()` é:\n",
    "\n",
    "``` python\n",
    "range(start, stop)\n",
    "```\n",
    "\n",
    "Onde o parâmetro `start` é inclusivo, ou seja, faz parte do intervalo.\n",
    "\n",
    "Já o parâmetro `stop` é exclusivo, ou seja, é o primeiro valor fora do intervalo.  \n",
    "\n",
    "Por exemplo:\n",
    "\n",
    "``` python\n",
    "range(2, 7)\n",
    "```\n",
    "\n",
    "Vai gerar o seguite intervalo:\n",
    "\n",
    "``` python\n",
    "[2, 3, 4, 5, 6]\n",
    "```\n",
    "\n",
    "Execute as células abaixo para ver os intervalos que são criados pela função `range()`."
   ]
  },
  {
   "cell_type": "code",
   "execution_count": null,
   "id": "9ef5a268-0252-495b-a4fe-8f6b24959b3d",
   "metadata": {},
   "outputs": [],
   "source": [
    "list(range(6))"
   ]
  },
  {
   "cell_type": "code",
   "execution_count": null,
   "id": "9c53dc44-39e2-4ea4-8c9b-784e1884a60d",
   "metadata": {},
   "outputs": [],
   "source": [
    "list(range(2, 12))"
   ]
  },
  {
   "cell_type": "markdown",
   "id": "7b1c8d9c-9935-4882-8d1b-7a8bdda3d327",
   "metadata": {},
   "source": [
    "### Exercícios\n",
    "\n",
    "1 - Crie um programa que imprima o quadrado de uma sequencia de números:\n",
    "\n",
    "Execute esse programa para valores de x que vão de 3 até 15"
   ]
  },
  {
   "cell_type": "code",
   "execution_count": null,
   "id": "2fe6e0be-a6ea-4d55-8cd4-f10b47eb96e1",
   "metadata": {},
   "outputs": [],
   "source": []
  },
  {
   "cell_type": "markdown",
   "id": "a3a289d8-7a88-4dbe-8887-a94ca84bb398",
   "metadata": {},
   "source": [
    "2 - Crie um programa que some todos os números na sequência de 1 até 100"
   ]
  },
  {
   "cell_type": "code",
   "execution_count": null,
   "id": "af771f45-5b12-4a24-baf8-f63b477d1070",
   "metadata": {},
   "outputs": [],
   "source": []
  },
  {
   "cell_type": "markdown",
   "id": "52bfd00e-1fac-4edb-b949-bc865b39b235",
   "metadata": {},
   "source": [
    "# Gabarito\n",
    "\n",
    "Verifique a solução dos problemas [aqui](https://colab.research.google.com/github/caio-c-silva/Algoritmo-e-Pensamento-Computacional/blob/main/g06.ipynb)"
   ]
  }
 ],
 "metadata": {
  "kernelspec": {
   "display_name": "Python 3 (ipykernel)",
   "language": "python",
   "name": "python3"
  },
  "language_info": {
   "codemirror_mode": {
    "name": "ipython",
    "version": 3
   },
   "file_extension": ".py",
   "mimetype": "text/x-python",
   "name": "python",
   "nbconvert_exporter": "python",
   "pygments_lexer": "ipython3",
   "version": "3.11.0"
  }
 },
 "nbformat": 4,
 "nbformat_minor": 5
}
