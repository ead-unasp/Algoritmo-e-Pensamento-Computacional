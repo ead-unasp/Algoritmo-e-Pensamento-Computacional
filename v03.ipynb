{
 "cells": [
  {
   "cell_type": "markdown",
   "id": "c7a9d32e-7e90-489d-8ef4-28c24ae6e919",
   "metadata": {},
   "source": [
    "# Condicionais"
   ]
  },
  {
   "cell_type": "code",
   "execution_count": null,
   "id": "cdb11ac5-8403-41f5-a64b-714ede834d0c",
   "metadata": {},
   "outputs": [],
   "source": [
    "x = 2\n",
    "\n",
    "if x > 0:\n",
    "    \n",
    "    print(\"Positivo\")\n",
    "    \n",
    "else:\n",
    "    \n",
    "    print(\"Negativo\")"
   ]
  },
  {
   "cell_type": "code",
   "execution_count": null,
   "id": "775c7552-73c5-4f1f-ba05-eb0c7488e545",
   "metadata": {},
   "outputs": [],
   "source": [
    "sensor_temp = 90\n",
    "\n",
    "if sensor_temp < 85:\n",
    "    \n",
    "    print(\"Temperatura abaixo do limite\")\n",
    "    \n",
    "else:\n",
    "    \n",
    "    print(\"Ligar Resfriador\")"
   ]
  },
  {
   "cell_type": "code",
   "execution_count": null,
   "id": "6b0b1d35-c14b-4561-b63a-997c50da8d67",
   "metadata": {},
   "outputs": [],
   "source": [
    "sensor_temp = 81\n",
    "\n",
    "if sensor_temp > 80 and sensor_temp <= 90:\n",
    "    \n",
    "    print(\"Temperatura dentro do intervalo adequado\")\n",
    "    \n",
    "else:\n",
    "    \n",
    "    print(\"Temperatura fora do intervalo adequado\")"
   ]
  },
  {
   "cell_type": "code",
   "execution_count": null,
   "id": "78c8860b-e6c7-4b63-922c-12132e2e628d",
   "metadata": {},
   "outputs": [],
   "source": [
    "sensor_temp = 81\n",
    "\n",
    "if 80 <  sensor_temp <= 90:\n",
    "    \n",
    "    print(\"Temperatura dentro do intervalo adequado\")\n",
    "    \n",
    "else:\n",
    "    \n",
    "    print(\"Temperatura fora do intervalo adequado\")"
   ]
  },
  {
   "cell_type": "code",
   "execution_count": null,
   "id": "aa5c9b80-ecf7-487e-b2da-2353d21c2944",
   "metadata": {},
   "outputs": [],
   "source": [
    "maior_de_idade = True\n",
    "\n",
    "brasileiro = False\n",
    "\n",
    "estrangeiro_nat = True\n",
    "\n",
    "alfabetizado = True\n",
    "\n",
    "if maior_de_idade and alfabetizado and (brasileiro or estrangeiro_nat):\n",
    "    \n",
    "    \n",
    "    print('Atende os critérios')\n",
    "\n",
    "else:\n",
    "    \n",
    "    print('Não atende os critérios')"
   ]
  }
 ],
 "metadata": {
  "kernelspec": {
   "display_name": "Python 3 (ipykernel)",
   "language": "python",
   "name": "python3"
  },
  "language_info": {
   "codemirror_mode": {
    "name": "ipython",
    "version": 3
   },
   "file_extension": ".py",
   "mimetype": "text/x-python",
   "name": "python",
   "nbconvert_exporter": "python",
   "pygments_lexer": "ipython3",
   "version": "3.11.0"
  }
 },
 "nbformat": 4,
 "nbformat_minor": 5
}
