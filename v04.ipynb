{
 "cells": [
  {
   "cell_type": "markdown",
   "id": "7a966e91-f00e-4997-8f89-1efff07af9ae",
   "metadata": {},
   "source": [
    "# Estruturas de Repetição "
   ]
  },
  {
   "cell_type": "markdown",
   "id": "ae05c4aa-a233-4131-850f-64f7e2c5738b",
   "metadata": {},
   "source": [
    "## Função range()"
   ]
  },
  {
   "cell_type": "code",
   "execution_count": null,
   "id": "5415e155-4c7a-442d-bd26-288c9132c246",
   "metadata": {},
   "outputs": [],
   "source": [
    "list(range(1, 11))"
   ]
  },
  {
   "cell_type": "markdown",
   "id": "b81bc745-9e5c-4ac6-a5f7-4d5ba1e6ddac",
   "metadata": {},
   "source": [
    "## Estrutura de Repetição: `for`"
   ]
  },
  {
   "cell_type": "code",
   "execution_count": null,
   "id": "ef598f86-437b-42f7-af5b-5ef523ae40f5",
   "metadata": {},
   "outputs": [],
   "source": [
    "for x in range(11):\n",
    "    \n",
    "    if x % 2 == 0:\n",
    "        print(x)"
   ]
  },
  {
   "cell_type": "markdown",
   "id": "96ac347f-f9df-4db4-82eb-86711582d93a",
   "metadata": {},
   "source": [
    "## Exemplo: Somar todos os números pares dentro de um intervalo "
   ]
  },
  {
   "cell_type": "code",
   "execution_count": null,
   "id": "e1be49dc-7249-460a-8a26-74791031f1a3",
   "metadata": {},
   "outputs": [],
   "source": []
  },
  {
   "cell_type": "markdown",
   "id": "6a550e01-9cc1-42d6-8106-bb0968bd5231",
   "metadata": {},
   "source": [
    "## Estrutura de Repetição: `while`"
   ]
  },
  {
   "cell_type": "code",
   "execution_count": null,
   "id": "9f0458f4-5c69-45eb-b881-2d4973863361",
   "metadata": {},
   "outputs": [],
   "source": [
    "a = 10\n",
    "\n",
    "while a >= 1:\n",
    "    print(a)\n",
    "    a = a - 1\n",
    "    \n",
    "print('fim')"
   ]
  },
  {
   "cell_type": "code",
   "execution_count": null,
   "id": "1ba85ed4-7bc8-4e37-8971-492bcd70e224",
   "metadata": {},
   "outputs": [],
   "source": []
  }
 ],
 "metadata": {
  "kernelspec": {
   "display_name": "Python 3 (ipykernel)",
   "language": "python",
   "name": "python3"
  },
  "language_info": {
   "codemirror_mode": {
    "name": "ipython",
    "version": 3
   },
   "file_extension": ".py",
   "mimetype": "text/x-python",
   "name": "python",
   "nbconvert_exporter": "python",
   "pygments_lexer": "ipython3",
   "version": "3.11.0"
  }
 },
 "nbformat": 4,
 "nbformat_minor": 5
}
